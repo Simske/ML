{
 "cells": [
  {
   "cell_type": "code",
   "execution_count": 1,
   "metadata": {},
   "outputs": [],
   "source": [
    "import numpy as np\n",
    "%matplotlib inline\n",
    "import matplotlib.pyplot as plt\n",
    "import h5py, bisect, heapq\n",
    "from sklearn.datasets import load_digits\n",
    "from sklearn.model_selection import train_test_split, KFold\n",
    "from scipy.stats import iqr\n",
    "np.random.seed(32815)"
   ]
  },
  {
   "cell_type": "code",
   "execution_count": 2,
   "metadata": {},
   "outputs": [
    {
     "name": "stdout",
     "output_type": "stream",
     "text": [
      "(120000, 9, 9)\n"
     ]
    }
   ],
   "source": [
    "with h5py.File('digits.h5')as f:\n",
    "    images = f['images'].value\n",
    "    labels = f['labels'].value\n",
    "\n",
    "# normalize data\n",
    "images = images/np.max(images)\n",
    "print(images.shape)"
   ]
  },
  {
   "cell_type": "markdown",
   "metadata": {},
   "source": [
    "Choose digit for this exercise and filter data"
   ]
  },
  {
   "cell_type": "code",
   "execution_count": 3,
   "metadata": {},
   "outputs": [],
   "source": [
    "digit = 6"
   ]
  },
  {
   "cell_type": "code",
   "execution_count": 4,
   "metadata": {},
   "outputs": [],
   "source": [
    "mask = labels == digit\n",
    "x = images[mask]\n",
    "x = x.reshape(x.shape[0], x.shape[1] * x.shape[2])\n",
    "y = labels[mask]"
   ]
  },
  {
   "cell_type": "markdown",
   "metadata": {},
   "source": [
    "Plot of random images from digit dataset"
   ]
  },
  {
   "cell_type": "code",
   "execution_count": 5,
   "metadata": {},
   "outputs": [
    {
     "data": {
      "image/png": "[encoded data removed]",
      "text/plain": [
       "<matplotlib.figure.Figure at 0x18f3c83eb00>"
      ]
     },
     "metadata": {},
     "output_type": "display_data"
    }
   ],
   "source": [
    "fig, axes = plt.subplots(2, 4, figsize=(14, 6))\n",
    "for ax, choice in zip(axes.flatten(), np.random.choice(x.shape[0], 8)):\n",
    "    ax.imshow(x[choice].reshape(9,9), cmap='Greys')"
   ]
  },
  {
   "cell_type": "markdown",
   "metadata": {},
   "source": [
    "# 1. Data Generation with Naive Bayes"
   ]
  },
  {
   "cell_type": "markdown",
   "metadata": {},
   "source": [
    "Using Histogram and NaiveBayesClassifier classes provided on Moodle (removed unused methods for readability"
   ]
  },
  {
   "cell_type": "code",
   "execution_count": 6,
   "metadata": {},
   "outputs": [],
   "source": [
    "class Histogram(object):\n",
    "    \"\"\"Histogram.\n",
    "    \"\"\"\n",
    "\n",
    "    def __init__(self, values):\n",
    "        \"\"\"Create a histogram for the given values using the Freedman-Diaconis rule for the bin width.\n",
    "\n",
    "        :param values: the values from which the histogram will be computed\n",
    "        \"\"\"\n",
    "        self.num_instances = len(values)\n",
    "\n",
    "        # Get the number of bins.\n",
    "        v_min, v_25, v_75, v_max = np.percentile(values, [0, 25, 75, 100])\n",
    "        # freedman_diaconis_width = 2 * (v_75 - v_25) / (len(values) ** (1/3.0))\n",
    "        freedman_diaconis_width = (v_max - v_min) / (len(values) ** (1/3.0))\n",
    "        num_bins = int(round((v_max - v_min) / freedman_diaconis_width))\n",
    "        assert num_bins > 0\n",
    "\n",
    "        # Fill the bins.\n",
    "        self.heights, self.bin_edges = np.histogram(values, bins=num_bins)\n",
    "        # Normalize bins based on number of instances\n",
    "        self.probs = self.heights / self.num_instances\n",
    "\n",
    "class NaiveBayesClassifier(object):\n",
    "    \"\"\"Naive Bayes classifier.\n",
    "    \"\"\"\n",
    "\n",
    "    def __init__(self):\n",
    "        self.num_instances = None  # Number of instances that were used in training.\n",
    "        self.num_feats = None  # Number of features that were used in training.\n",
    "        self.classes = None  # The classes that were found in training.\n",
    "        self.histograms = {}  # Dict with histograms, key: class, value: list with histograms for all features.\n",
    "        self.priors = {}  # Dict with priors, key: class, value: prior of the class.\n",
    "\n",
    "    def train(self, train_x, train_y):\n",
    "        \"\"\"Train the classifier.\n",
    "\n",
    "        :param train_x: training x data\n",
    "        :param train_y: training y data\n",
    "        \"\"\"\n",
    "        assert train_x.shape[0] == len(train_y)\n",
    "        self.num_instances = train_x.shape[0]\n",
    "        self.num_feats = train_x.shape[1]\n",
    "        self.classes = np.unique(train_y)\n",
    "\n",
    "        # Create one histogram for each class and each feature.\n",
    "        self.histograms.clear()\n",
    "        for cl in self.classes:\n",
    "            # Get the data of the current class.\n",
    "            train_x_cl = [train_x[k] for k in range(self.num_instances) if train_y[k] == cl]\n",
    "            num_instances_cl = len(train_x_cl)\n",
    "\n",
    "            # Create one histogram per feature.\n",
    "            self.histograms[cl] = []\n",
    "            for i in range(self.num_feats):\n",
    "                histo_points = [train_x_cl[k][i] for k in range(num_instances_cl)]\n",
    "                self.histograms[cl].append(Histogram(histo_points))"
   ]
  },
  {
   "cell_type": "code",
   "execution_count": 7,
   "metadata": {},
   "outputs": [],
   "source": [
    "# create naive bayes histograms\n",
    "nb = NaiveBayesClassifier()\n",
    "nb.train(x, y)"
   ]
  },
  {
   "cell_type": "code",
   "execution_count": 8,
   "metadata": {
    "scrolled": true
   },
   "outputs": [],
   "source": [
    "# function to sample image from histograms\n",
    "# function has different arguments than on assignment,\n",
    "# because of the provided NaiveBayes class\n",
    "def sample_naive_bayes(nb, digit):\n",
    "    # empty image\n",
    "    image = np.empty(len(nb.histograms[digit]))\n",
    "    \n",
    "    # for all histograms\n",
    "    for j, hist in enumerate(nb.histograms[digit]):\n",
    "        r = np.random.random()\n",
    "        # cumulative histogram\n",
    "        cumhist = np.cumsum(hist.probs)\n",
    "        l = 0\n",
    "        # find smallest l with Q_l > random\n",
    "        while cumhist[l] < r and l < len(cumhist)-1:\n",
    "            l += 1\n",
    "        # random sample between bin l boundaries\n",
    "        image[j] = np.random.uniform(*hist.bin_edges[l:l+2])\n",
    "    return image.reshape(9,9)"
   ]
  },
  {
   "cell_type": "code",
   "execution_count": 9,
   "metadata": {
    "scrolled": false
   },
   "outputs": [
    {
     "data": {
      "image/png": "[encoded data removed]",
      "text/plain": [
       "<matplotlib.figure.Figure at 0x18f3d064e48>"
      ]
     },
     "metadata": {},
     "output_type": "display_data"
    }
   ],
   "source": [
    "fig, axes = plt.subplots(2, 4, figsize=(14, 6))\n",
    "for ax in axes.flatten():\n",
    "    ax.imshow(sample_naive_bayes(nb, digit), cmap='Greys')"
   ]
  },
  {
   "cell_type": "markdown",
   "metadata": {},
   "source": [
    "# 2. Data Generation & Classification with Density Trees"
   ]
  },
  {
   "cell_type": "code",
   "execution_count": 17,
   "metadata": {},
   "outputs": [],
   "source": [
    "import warnings\n",
    "warnings.filterwarnings(\"ignore\")"
   ]
  },
  {
   "cell_type": "code",
   "execution_count": 19,
   "metadata": {},
   "outputs": [],
   "source": [
    "class DataPass: # empty class which can be accessed by all tree nodes\n",
    "    pass\n",
    "\n",
    "class Node:\n",
    "    def __init__(self, data, bbox, dataobj=None):\n",
    "        self.__left, self.__right = None, None\n",
    "        self.data = data\n",
    "        self.N = data.shape[0]\n",
    "        self.vol = np.product(bbox[:,1]-bbox[:,0])\n",
    "        assert(self.vol > 0)\n",
    "        self.bbox = np.array(bbox)\n",
    "        self.dataobj = dataobj\n",
    "        \n",
    "    def find_split(self, score_func, threshhold_count=10):\n",
    "        threshholds = np.empty(self.bbox.shape[0])\n",
    "        self.best_split = {'score' : 0}\n",
    "        for j, box in enumerate(self.bbox):\n",
    "            for t in np.linspace(*box, threshhold_count+2)[1:-1]:\n",
    "                leftmask = self.data[:,j] < t\n",
    "                V_red = self.vol / (box[1] - box[0])\n",
    "                Vl = (t - box[0]) * V_red\n",
    "                Vr = (box[1] - t) * V_red\n",
    "                Nl = np.count_nonzero(leftmask)\n",
    "                Nr = self.N - Nl\n",
    "                score = score_func(self.vol, self.N, self.dataobj.Ntot, Nl, Vl, Nr, Vr) \n",
    "                if score > self.best_split['score']:\n",
    "                    self.best_split['score'] = score\n",
    "                    self.best_split['feature'] = j\n",
    "                    self.best_split['threshhold'] = t\n",
    "        return (-self.best_split['score'], self)\n",
    "    \n",
    "    def split(self):\n",
    "        t = self.best_split['threshhold']\n",
    "        j = self.best_split['feature']\n",
    "        lmask = self.data[:,j] < t\n",
    "        lcount = np.count_nonzero(lmask)\n",
    "        if lcount == 0 or lcount == lmask.shape[0]:\n",
    "            return False\n",
    "        bbox_l, bbox_r = np.copy(self.bbox), np.copy(self.bbox)\n",
    "        bbox_l[j, 1] = t\n",
    "        bbox_r[j, 0] = t\n",
    "        self.left = Node(self.data[lmask], bbox_l)\n",
    "        self.right = Node(self.data[~lmask], bbox_r)\n",
    "        self.t = t\n",
    "        self.j = j\n",
    "        del self.data\n",
    "        return True\n",
    "    \n",
    "    @property\n",
    "    def prob(self):\n",
    "        return self.N / self.dataobj.Ntot\n",
    "    \n",
    "    @property\n",
    "    def left(self):\n",
    "        return self.__left\n",
    "    \n",
    "    @left.setter\n",
    "    def left(self, node):\n",
    "        self.__left = node\n",
    "        self.__left.dataobj = self.dataobj\n",
    "        \n",
    "    @property\n",
    "    def right(self):\n",
    "        return self.__right\n",
    "    \n",
    "    @right.setter\n",
    "    def right(self, node):\n",
    "        self.__right = node\n",
    "        self.__right.dataobj = self.dataobj\n",
    "\n",
    "def score_sqr(V, N, Ntot, Nl, Vl, Nr, Vr):\n",
    "    p = N / Ntot / V\n",
    "    pl = Nl / Ntot / Vl\n",
    "    pr = Nr / Ntot / Vr\n",
    "    return -p**2 * V**2 + pl**2 * Vl + pr**2 * Vr\n",
    "    \n",
    "def fit_density_tree1(features, tau):\n",
    "    bincount = int(tau * features.shape[0]**(1/3))\n",
    "\n",
    "    bbox_root = np.empty((features.shape[1], 2))\n",
    "    for i in range(features.shape[1]):\n",
    "        bbox_root[i, 0] = np.min(features[:,i])\n",
    "        bbox_root[i, 1] = np.max(features[:,i])\n",
    "    \n",
    "    \n",
    "    obj = DataPass() # Data object accessible in all nodes\n",
    "    obj.Ntot = features.shape[0]\n",
    "    root = Node(features, bbox_root, dataobj=obj)\n",
    "    \n",
    "    leafs = [root.find_split(score_sqr)]\n",
    "\n",
    "    i = 0\n",
    "    while i < bincount-2 and len(leafs) != 0:\n",
    "        _, node = heapq.heappop(leafs)\n",
    "        if node.split() is False:\n",
    "            continue\n",
    "        heapq.heappush(leafs, node.left.find_split(score_sqr))\n",
    "        heapq.heappush(leafs, node.right.find_split(score_sqr))\n",
    "        i += 1\n",
    "    return root\n"
   ]
  },
  {
   "cell_type": "code",
   "execution_count": 24,
   "metadata": {
    "scrolled": false
   },
   "outputs": [],
   "source": [
    "tree1 = fit_density_tree1(x, 50)"
   ]
  },
  {
   "cell_type": "code",
   "execution_count": 27,
   "metadata": {
    "scrolled": true
   },
   "outputs": [],
   "source": [
    "def traverse_tree(root, action):\n",
    "    if root is None:\n",
    "        return\n",
    "    traverse_tree(root.left, action)\n",
    "    action(root)\n",
    "    traverse_tree(root.right, action)\n",
    "\n",
    "def action(node):\n",
    "    if node.left is None:\n",
    "        print(node.N)"
   ]
  },
  {
   "cell_type": "code",
   "execution_count": 22,
   "metadata": {},
   "outputs": [],
   "source": [
    "def prob_check(node):\n",
    "    if node.left is None:\n",
    "        return\n",
    "    else:\n",
    "        assert(node.prob - node.left.prob - node.left.prob < 1e-16)"
   ]
  },
  {
   "cell_type": "code",
   "execution_count": 23,
   "metadata": {},
   "outputs": [],
   "source": [
    "traverse_tree(tree1, prob_check)"
   ]
  },
  {
   "cell_type": "code",
   "execution_count": 32,
   "metadata": {},
   "outputs": [],
   "source": [
    "def sample_density_tree(node):\n",
    "    t = np.random.random()\n",
    "    while node.left is not None:\n",
    "        if t <= node.prob:\n",
    "            node = node.left\n",
    "        else:\n",
    "            t -= node.prob\n",
    "            node = node.right\n",
    "    return np.fromiter((np.random.uniform(*box) for box in node.bbox), dtype='float', count=node.bbox.shape[0]).reshape(9,9)"
   ]
  },
  {
   "cell_type": "code",
   "execution_count": 33,
   "metadata": {},
   "outputs": [
    {
     "data": {
      "image/png": "[encoded data removed]",
      "text/plain": [
       "<matplotlib.figure.Figure at 0x18f3da5d6d8>"
      ]
     },
     "metadata": {},
     "output_type": "display_data"
    }
   ],
   "source": [
    "fig, axes = plt.subplots(2, 4, figsize=(14, 6))\n",
    "for ax in axes.flatten():\n",
    "    ax.imshow(sample_density_tree(tree1), cmap='Greys')"
   ]
  },
  {
   "cell_type": "code",
   "execution_count": null,
   "metadata": {},
   "outputs": [],
   "source": []
  },
  {
   "cell_type": "code",
   "execution_count": null,
   "metadata": {},
   "outputs": [],
   "source": []
  },
  {
   "cell_type": "code",
   "execution_count": null,
   "metadata": {},
   "outputs": [],
   "source": []
  },
  {
   "cell_type": "markdown",
   "metadata": {},
   "source": [
    "# 3. Data Generation with a Multi-dimensional Gaussian"
   ]
  },
  {
   "cell_type": "code",
   "execution_count": 32,
   "metadata": {
    "collapsed": true
   },
   "outputs": [],
   "source": [
    "# Fit feature of one label to multi-dim gaussian\n",
    "def fit_gaussian(features):\n",
    "    means = np.mean(features, axis=0) # calculate means\n",
    "    cov = np.cov(features.T)          # calculate covariance matrix\n",
    "    return means, cov\n",
    "\n",
    "# sample from multi-dim gaussian, return image\n",
    "def sample_qda(mean, cov):\n",
    "    return np.random.multivariate_normal(mean, cov).reshape(9,9)"
   ]
  },
  {
   "cell_type": "code",
   "execution_count": 33,
   "metadata": {
    "collapsed": true
   },
   "outputs": [],
   "source": [
    "means, cov = fit_gaussian(x)"
   ]
  },
  {
   "cell_type": "code",
   "execution_count": 34,
   "metadata": {
    "scrolled": false
   },
   "outputs": [
    {
     "data": {
      "image/png": "[encoded data removed]",
      "text/plain": [
       "<matplotlib.figure.Figure at 0x19f7532c048>"
      ]
     },
     "metadata": {},
     "output_type": "display_data"
    }
   ],
   "source": [
    "fig, axes = plt.subplots(2, 4, figsize=(14, 6))\n",
    "for ax in axes.flatten():\n",
    "    ax.imshow(sample_qda(means, cov), cmap='Greys')"
   ]
  }
 ],
 "metadata": {
  "kernelspec": {
   "display_name": "Python 3",
   "language": "python",
   "name": "python3"
  },
  "language_info": {
   "codemirror_mode": {
    "name": "ipython",
    "version": 3
   },
   "file_extension": ".py",
   "mimetype": "text/x-python",
   "name": "python",
   "nbconvert_exporter": "python",
   "pygments_lexer": "ipython3",
   "version": "3.6.3"
  }
 },
 "nbformat": 4,
 "nbformat_minor": 2
}
