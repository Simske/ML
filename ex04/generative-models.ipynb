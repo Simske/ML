{
 "cells": [
  {
   "cell_type": "code",
   "execution_count": 1,
   "metadata": {},
   "outputs": [],
   "source": [
    "import numpy as np\n",
    "import pandas as pd\n",
    "%matplotlib inline\n",
    "import matplotlib.pyplot as plt\n",
    "import h5py, bisect, heapq\n",
    "from sklearn.datasets import load_digits\n",
    "from sklearn.model_selection import train_test_split, KFold\n",
    "from scipy.stats import iqr\n",
    "np.random.seed(32815)"
   ]
  },
  {
   "cell_type": "code",
   "execution_count": 2,
   "metadata": {},
   "outputs": [
    {
     "name": "stdout",
     "output_type": "stream",
     "text": [
      "(120000, 81)\n"
     ]
    }
   ],
   "source": [
    "with h5py.File('digits.h5')as f:\n",
    "    images = f['images'].value\n",
    "    labels = f['labels'].value\n",
    "\n",
    "def pic_reshape(images):\n",
    "    s = images.shape\n",
    "    return images.reshape(s[0], s[1] * s[2])\n",
    "# normalize data\n",
    "images = pic_reshape(images)/np.max(images)\n",
    "print(images.shape)"
   ]
  },
  {
   "cell_type": "markdown",
   "metadata": {},
   "source": [
    "Choose digit for this exercise and filter data"
   ]
  },
  {
   "cell_type": "code",
   "execution_count": 3,
   "metadata": {},
   "outputs": [],
   "source": [
    "digit = 6"
   ]
  },
  {
   "cell_type": "code",
   "execution_count": 4,
   "metadata": {},
   "outputs": [],
   "source": [
    "mask = labels == digit\n",
    "x = images[mask]\n",
    "y = labels[mask]"
   ]
  },
  {
   "cell_type": "markdown",
   "metadata": {},
   "source": [
    "Plot of random images from digit dataset"
   ]
  },
  {
   "cell_type": "code",
   "execution_count": 5,
   "metadata": {},
   "outputs": [
    {
     "data": {
      "image/png": "[encoded data removed]",
      "text/plain": [
       "<matplotlib.figure.Figure at 0x1f464b28ac8>"
      ]
     },
     "metadata": {},
     "output_type": "display_data"
    }
   ],
   "source": [
    "fig, axes = plt.subplots(2, 4, figsize=(14, 6))\n",
    "fig.suptitle(\"Sample images from training set\")\n",
    "for ax, choice in zip(axes.flatten(), np.random.choice(x.shape[0], 8)):\n",
    "    ax.imshow(x[choice].reshape(9,9), cmap='Greys')"
   ]
  },
  {
   "cell_type": "markdown",
   "metadata": {},
   "source": [
    "# 1. Data Generation with Naive Bayes"
   ]
  },
  {
   "cell_type": "markdown",
   "metadata": {},
   "source": [
    "Using Histogram and NaiveBayesClassifier classes provided on Moodle (removed unused methods for readability"
   ]
  },
  {
   "cell_type": "code",
   "execution_count": 6,
   "metadata": {},
   "outputs": [],
   "source": [
    "class Histogram(object):\n",
    "    \"\"\"Histogram.\n",
    "    \"\"\"\n",
    "\n",
    "    def __init__(self, values):\n",
    "        \"\"\"Create a histogram for the given values using the Freedman-Diaconis rule for the bin width.\n",
    "\n",
    "        :param values: the values from which the histogram will be computed\n",
    "        \"\"\"\n",
    "        self.num_instances = len(values)\n",
    "\n",
    "        # Get the number of bins.\n",
    "        v_min, v_25, v_75, v_max = np.percentile(values, [0, 25, 75, 100])\n",
    "        # freedman_diaconis_width = 2 * (v_75 - v_25) / (len(values) ** (1/3.0))\n",
    "        freedman_diaconis_width = (v_max - v_min) / (len(values) ** (1/3.0))\n",
    "        num_bins = int(round((v_max - v_min) / freedman_diaconis_width))\n",
    "        assert num_bins > 0\n",
    "\n",
    "        # Fill the bins.\n",
    "        self.heights, self.bin_edges = np.histogram(values, bins=num_bins)\n",
    "        # Normalize bins based on number of instances\n",
    "        self.probs = self.heights / self.num_instances\n",
    "\n",
    "class NaiveBayesClassifier(object):\n",
    "    \"\"\"Naive Bayes classifier.\n",
    "    \"\"\"\n",
    "\n",
    "    def __init__(self):\n",
    "        self.num_instances = None  # Number of instances that were used in training.\n",
    "        self.num_feats = None  # Number of features that were used in training.\n",
    "        self.classes = None  # The classes that were found in training.\n",
    "        self.histograms = {}  # Dict with histograms, key: class, value: list with histograms for all features.\n",
    "        self.priors = {}  # Dict with priors, key: class, value: prior of the class.\n",
    "\n",
    "    def train(self, train_x, train_y):\n",
    "        \"\"\"Train the classifier.\n",
    "\n",
    "        :param train_x: training x data\n",
    "        :param train_y: training y data\n",
    "        \"\"\"\n",
    "        assert train_x.shape[0] == len(train_y)\n",
    "        self.num_instances = train_x.shape[0]\n",
    "        self.num_feats = train_x.shape[1]\n",
    "        self.classes = np.unique(train_y)\n",
    "\n",
    "        # Create one histogram for each class and each feature.\n",
    "        self.histograms.clear()\n",
    "        for cl in self.classes:\n",
    "            # Get the data of the current class.\n",
    "            train_x_cl = [train_x[k] for k in range(self.num_instances) if train_y[k] == cl]\n",
    "            num_instances_cl = len(train_x_cl)\n",
    "\n",
    "            # Create one histogram per feature.\n",
    "            self.histograms[cl] = []\n",
    "            for i in range(self.num_feats):\n",
    "                histo_points = [train_x_cl[k][i] for k in range(num_instances_cl)]\n",
    "                self.histograms[cl].append(Histogram(histo_points))"
   ]
  },
  {
   "cell_type": "code",
   "execution_count": 7,
   "metadata": {},
   "outputs": [],
   "source": [
    "# create naive bayes histograms\n",
    "nb = NaiveBayesClassifier()\n",
    "nb.train(x, y)"
   ]
  },
  {
   "cell_type": "code",
   "execution_count": 8,
   "metadata": {
    "scrolled": true
   },
   "outputs": [],
   "source": [
    "# function to sample image from histograms\n",
    "# function has different arguments than on assignment,\n",
    "# because of the provided NaiveBayes class\n",
    "def sample_naive_bayes(nb, digit):\n",
    "    # empty image\n",
    "    image = np.empty(len(nb.histograms[digit]))\n",
    "    \n",
    "    # for all histograms\n",
    "    for j, hist in enumerate(nb.histograms[digit]):\n",
    "        r = np.random.random()\n",
    "        # cumulative histogram\n",
    "        cumhist = np.cumsum(hist.probs)\n",
    "        l = 0\n",
    "        # find smallest l with Q_l > random\n",
    "        while cumhist[l] < r and l < len(cumhist)-1:\n",
    "            l += 1\n",
    "        # random sample between bin l boundaries\n",
    "        image[j] = np.random.uniform(*hist.bin_edges[l:l+2])\n",
    "    return image.reshape(9,9)"
   ]
  },
  {
   "cell_type": "code",
   "execution_count": 9,
   "metadata": {
    "scrolled": false
   },
   "outputs": [
    {
     "data": {
      "image/png": "[encoded data removed]",
      "text/plain": [
       "<matplotlib.figure.Figure at 0x1f468f90d68>"
      ]
     },
     "metadata": {},
     "output_type": "display_data"
    }
   ],
   "source": [
    "fig, axes = plt.subplots(2, 4, figsize=(14, 6))\n",
    "fig.suptitle(\"Generated using naive bayes classifier\")\n",
    "for ax in axes.flatten():\n",
    "    ax.imshow(sample_naive_bayes(nb, digit), cmap='Greys')"
   ]
  },
  {
   "cell_type": "markdown",
   "metadata": {},
   "source": [
    "# 2. Data Generation & Classification with Density Trees"
   ]
  },
  {
   "cell_type": "code",
   "execution_count": 10,
   "metadata": {},
   "outputs": [],
   "source": [
    "class DataPass: # empty class which can be accessed by all tree nodes\n",
    "    pass\n",
    "\n",
    "class Node:\n",
    "    \"Tree node class\"\n",
    "    def __init__(self, data, bbox, dataobj=None):\n",
    "        # tree children, private, accessed by properties left & right\n",
    "        self.__left, self.__right = None, None\n",
    "        self.data = data\n",
    "        self.N = data.shape[0]\n",
    "        # volume of bin\n",
    "        self.vol = np.product(bbox[:,1]-bbox[:,0])\n",
    "        assert(self.vol > 0)\n",
    "        # bounding box\n",
    "        self.bbox = np.array(bbox)\n",
    "        # object to carry information for whole tree\n",
    "        self.dataobj = dataobj\n",
    "        \n",
    "    def find_split(self, score_func, threshhold_count=10):\n",
    "        \"\"\"Find best split threshhold by searching for best score\n",
    "           using score_func()\"\"\"\n",
    "        threshholds = np.empty(self.bbox.shape[0])\n",
    "        self.best_split = {'score' : -np.inf}\n",
    "        # exhaustive search for best split score\n",
    "        for j, box in enumerate(self.bbox):\n",
    "            for t in np.linspace(*box, threshhold_count+2)[1:-1]:\n",
    "                leftmask = self.data[:,j] < t\n",
    "                V_red = self.vol / (box[1] - box[0])\n",
    "                Vl = (t - box[0]) * V_red\n",
    "                Vr = (box[1] - t) * V_red\n",
    "                Nl = np.count_nonzero(leftmask)\n",
    "                Nr = self.N - Nl\n",
    "                score = score_func(self.vol, self.N, self.dataobj.Ntot, Nl, Vl, Nr, Vr) \n",
    "                if score > self.best_split['score']:\n",
    "                    self.best_split['score'] = score\n",
    "                    self.best_split['feature'] = j\n",
    "                    self.best_split['threshhold'] = t\n",
    "        # returns negative score & node in tuple for min heap\n",
    "        return (-self.best_split['score'], self)\n",
    "    \n",
    "    def split(self):\n",
    "        \"\"\"Split leaf according to threshhold found in find_split.\n",
    "           Returns False if one bin would be empty, doesn't perform split\"\"\"\n",
    "        t = self.best_split['threshhold']\n",
    "        j = self.best_split['feature']\n",
    "        lmask = self.data[:,j] < t\n",
    "        lcount = np.count_nonzero(lmask)\n",
    "        if lcount == 0 or lcount == lmask.shape[0]:\n",
    "            return False\n",
    "        bbox_l, bbox_r = np.copy(self.bbox), np.copy(self.bbox)\n",
    "        bbox_l[j, 1] = t\n",
    "        bbox_r[j, 0] = t\n",
    "        self.left = Node(self.data[lmask], bbox_l)\n",
    "        self.right = Node(self.data[~lmask], bbox_r)\n",
    "        # save threshhold and feature for prediction\n",
    "        self.t, self.j = t, j\n",
    "        # delete data, because it's not needed anymore (all data in leafs)\n",
    "        del self.data\n",
    "        return True\n",
    "    \n",
    "    \"Property methods for probability\"\n",
    "    @property\n",
    "    def prob(self):\n",
    "        return self.N / self.dataobj.Ntot\n",
    "    @property\n",
    "    def prob_dens(self):\n",
    "        return self.N / self.dataobj.Ntot / self.vol\n",
    "    \n",
    "    \"\"\"Property methods for children, needed to implicitly carry dataobj\"\"\"\n",
    "    @property\n",
    "    def left(self):\n",
    "        return self.__left\n",
    "    \n",
    "    @left.setter\n",
    "    def left(self, node):\n",
    "        self.__left = node\n",
    "        self.__left.dataobj = self.dataobj\n",
    "        \n",
    "    @property\n",
    "    def right(self):\n",
    "        return self.__right\n",
    "    \n",
    "    @right.setter\n",
    "    def right(self, node):\n",
    "        self.__right = node\n",
    "        self.__right.dataobj = self.dataobj\n",
    "\n",
    "def fit_density_tree(features, tau, score_func):\n",
    "    \"Create tree from training data\"\n",
    "    bincount = int(tau * features.shape[0]**(1/3))\n",
    "    # data boundaries\n",
    "    bbox_root = np.empty((features.shape[1], 2))\n",
    "    for i in range(features.shape[1]):\n",
    "        bbox_root[i, 0] = np.min(features[:,i])\n",
    "        bbox_root[i, 1] = np.max(features[:,i])\n",
    "    \n",
    "    \n",
    "    obj = DataPass() # Data object accessible in all nodes\n",
    "    obj.Ntot = features.shape[0]\n",
    "    \n",
    "    # create tree root\n",
    "    root = Node(features, bbox_root, dataobj=obj)\n",
    "    # initialize min heap for split\n",
    "    leafs = [root.find_split(score_func)]\n",
    "    \n",
    "    # make max bincount splits\n",
    "    i = 0\n",
    "    while i < bincount-2 and len(leafs) != 0:\n",
    "        _, node = heapq.heappop(leafs)\n",
    "        if node.split() is False: # only count executed splits\n",
    "            continue\n",
    "        heapq.heappush(leafs, node.left.find_split(score_func))\n",
    "        heapq.heappush(leafs, node.right.find_split(score_func))\n",
    "        i += 1\n",
    "    return root"
   ]
  },
  {
   "cell_type": "code",
   "execution_count": 11,
   "metadata": {},
   "outputs": [],
   "source": [
    "def score_sqr(V, N, Ntot, Nl, Vl, Nr, Vr):\n",
    "    \"Scoring function to minimize squared error\"\n",
    "    p = N / Ntot / V\n",
    "    pl = Nl / Ntot / Vl\n",
    "    pr = Nr / Ntot / Vr\n",
    "    return -(-p**2 * V**2 + pl**2 * Vl + pr**2 * Vr)\n",
    "def fit_density_tree1(features, tau):\n",
    "    return fit_density_tree(features, tau, score_sqr)"
   ]
  },
  {
   "cell_type": "code",
   "execution_count": 12,
   "metadata": {
    "scrolled": false
   },
   "outputs": [],
   "source": [
    "tree1 = fit_density_tree1(x, 50)"
   ]
  },
  {
   "cell_type": "code",
   "execution_count": 13,
   "metadata": {
    "scrolled": true
   },
   "outputs": [],
   "source": [
    "# Tree check functions\n",
    "def traverse_tree(root, action):\n",
    "    if root is None:\n",
    "        return\n",
    "    traverse_tree(root.left, action)\n",
    "    action(root)\n",
    "    traverse_tree(root.right, action)\n",
    "\n",
    "def action(node):\n",
    "    if node.left is None:\n",
    "        print(node.N)\n",
    "\n",
    "def prob_check(node):\n",
    "    if node.left is None:\n",
    "        return\n",
    "    else:\n",
    "        assert(node.prob - node.left.prob - node.right.prob < 1e-16)\n",
    "traverse_tree(tree1, prob_check)"
   ]
  },
  {
   "cell_type": "code",
   "execution_count": 14,
   "metadata": {},
   "outputs": [],
   "source": [
    "def sample_density_tree(node):\n",
    "    \"Sample image from density tree\"\n",
    "    t = np.random.random()\n",
    "    # find leaf using tree probabilities\n",
    "    while node.left is not None:\n",
    "        if t <= node.prob:\n",
    "            node = node.left\n",
    "        else:\n",
    "            t -= node.prob\n",
    "            node = node.right\n",
    "    # sample uniformly from bin\n",
    "    return np.fromiter((np.random.uniform(*box) for box in node.bbox),\n",
    "                       dtype='float', count=node.bbox.shape[0]).reshape(9,9)"
   ]
  },
  {
   "cell_type": "code",
   "execution_count": 15,
   "metadata": {},
   "outputs": [
    {
     "data": {
      "image/png": "[encoded data removed]",
      "text/plain": [
       "<matplotlib.figure.Figure at 0x1f469854550>"
      ]
     },
     "metadata": {},
     "output_type": "display_data"
    }
   ],
   "source": [
    "fig, axes = plt.subplots(2, 4, figsize=(14, 6))\n",
    "fig.suptitle(\"Generated using density tree with error minimization\")\n",
    "for ax in axes.flatten():\n",
    "    ax.imshow(sample_density_tree(tree1), cmap='Greys')"
   ]
  },
  {
   "cell_type": "markdown",
   "metadata": {},
   "source": [
    "Something went wrong in the tree fitting process, we can't track exactly where, most likely with the exhaustive search for the best split. \n",
    "So the generated images look almost like random noise, and worse than the images from the naive bayes generator."
   ]
  },
  {
   "cell_type": "markdown",
   "metadata": {},
   "source": [
    "## 2.2 Train Tree by Maximizing Non-Uniformity"
   ]
  },
  {
   "cell_type": "code",
   "execution_count": 16,
   "metadata": {},
   "outputs": [],
   "source": [
    "def score_uniformity(V, N, Ntot, Nl, Vl, Nr, Vr):\n",
    "    \"Scoring to Maximize non-Uniformity\"\n",
    "    return (Nl * V - N * Vl)**2 / (Vl * (V - Vl))\n",
    "def fit_density_tree2(features, tau):\n",
    "    return fit_density_tree(features, tau, score_sqr)"
   ]
  },
  {
   "cell_type": "code",
   "execution_count": 17,
   "metadata": {},
   "outputs": [],
   "source": [
    "tree2 = fit_density_tree2(x,50)"
   ]
  },
  {
   "cell_type": "code",
   "execution_count": 18,
   "metadata": {},
   "outputs": [
    {
     "data": {
      "image/png": "[encoded data removed]",
      "text/plain": [
       "<matplotlib.figure.Figure at 0x1f46a13c518>"
      ]
     },
     "metadata": {},
     "output_type": "display_data"
    }
   ],
   "source": [
    "fig, axes = plt.subplots(2, 4, figsize=(14, 6))\n",
    "fig.suptitle(\"Generated using density tree with uniformity minimization\")\n",
    "for ax in axes.flatten():\n",
    "    ax.imshow(sample_density_tree(tree2), cmap='Greys')"
   ]
  },
  {
   "cell_type": "markdown",
   "metadata": {},
   "source": [
    "## 2.3 Tree-Based Classification"
   ]
  },
  {
   "cell_type": "code",
   "execution_count": 19,
   "metadata": {},
   "outputs": [],
   "source": [
    "def tree_find_prob_dens(node, x):\n",
    "    \"Find bin for test sample, return probability of bin\"\n",
    "    while node.left is not None:\n",
    "        if x[node.j] < node.t:\n",
    "            node = node.left\n",
    "        else:\n",
    "            node = node.right\n",
    "    return node.prob_dens\n",
    "\n",
    "def predict_density_trees(features, tree3, tree9):\n",
    "    prediction = np.empty(features.shape[0])\n",
    "    for i, x in enumerate(features):\n",
    "        prediction[i] = 3 if tree_find_prob_dens(tree3, x) > tree_find_prob_dens(tree9, x) else 9\n",
    "    return prediction"
   ]
  },
  {
   "cell_type": "code",
   "execution_count": 20,
   "metadata": {},
   "outputs": [],
   "source": [
    "tree3 = fit_density_tree1(images[labels == 3], 20)\n",
    "tree9 = fit_density_tree1(images[labels == 9], 20)"
   ]
  },
  {
   "cell_type": "code",
   "execution_count": 21,
   "metadata": {
    "scrolled": true
   },
   "outputs": [],
   "source": [
    "with h5py.File('digits_test.h5')as f:\n",
    "    test_images = f['images'].value\n",
    "    test_labels = f['labels'].value\n",
    "\n",
    "# normalize and reshape\n",
    "test_images = pic_reshape(test_images)/np.max(images)\n",
    "mask = (test_labels == 3) | (test_labels == 9)\n",
    "test_x = test_images[mask]\n",
    "test_y = test_labels[mask]\n",
    "\n",
    "\n",
    "prediction = predict_density_trees(test_x, tree3, tree9)"
   ]
  },
  {
   "cell_type": "code",
   "execution_count": 22,
   "metadata": {},
   "outputs": [],
   "source": [
    "def confusion_matrix(predicted, truth, nice_print=False, labels=[3,9]):\n",
    "    conf = np.empty((len(labels), len(labels)))\n",
    "    # calculate decision matrix\n",
    "    for i, label in enumerate(labels):\n",
    "        _, conf[i] = np.unique(predicted[truth == label], return_counts=True)\n",
    "    \n",
    "    conf /= predicted.shape[0]\n",
    "    # print confusion matrix using pandas\n",
    "    if nice_print:\n",
    "        display(pd.DataFrame(data = conf, index=labels, columns=labels\n",
    "                            ).rename_axis(\"Truth/Predicted\", axis='columns'))\n",
    "    return conf"
   ]
  },
  {
   "cell_type": "code",
   "execution_count": 23,
   "metadata": {},
   "outputs": [
    {
     "data": {
      "text/html": [
       "<div>\n",
       "<style scoped>\n",
       "    .dataframe tbody tr th:only-of-type {\n",
       "        vertical-align: middle;\n",
       "    }\n",
       "\n",
       "    .dataframe tbody tr th {\n",
       "        vertical-align: top;\n",
       "    }\n",
       "\n",
       "    .dataframe thead th {\n",
       "        text-align: right;\n",
       "    }\n",
       "</style>\n",
       "<table border=\"1\" class=\"dataframe\">\n",
       "  <thead>\n",
       "    <tr style=\"text-align: right;\">\n",
       "      <th>Truth/Predicted</th>\n",
       "      <th>3</th>\n",
       "      <th>9</th>\n",
       "    </tr>\n",
       "  </thead>\n",
       "  <tbody>\n",
       "    <tr>\n",
       "      <th>3</th>\n",
       "      <td>0.500248</td>\n",
       "      <td>0.500248</td>\n",
       "    </tr>\n",
       "    <tr>\n",
       "      <th>9</th>\n",
       "      <td>0.499752</td>\n",
       "      <td>0.499752</td>\n",
       "    </tr>\n",
       "  </tbody>\n",
       "</table>\n",
       "</div>"
      ],
      "text/plain": [
       "Truth/Predicted         3         9\n",
       "3                0.500248  0.500248\n",
       "9                0.499752  0.499752"
      ]
     },
     "metadata": {},
     "output_type": "display_data"
    }
   ],
   "source": [
    "confusion_matrix(prediction, test_y, nice_print=True);"
   ]
  },
  {
   "cell_type": "markdown",
   "metadata": {},
   "source": [
    "The prediction with the density tree is worse than with the naive bayes classifier, but this most likely comes from an implementation error in the tree fitting algorithm"
   ]
  },
  {
   "cell_type": "markdown",
   "metadata": {},
   "source": [
    "# 3. Data Generation with a Multi-dimensional Gaussian"
   ]
  },
  {
   "cell_type": "code",
   "execution_count": 24,
   "metadata": {},
   "outputs": [],
   "source": [
    "# Fit feature of one label to multi-dim gaussian\n",
    "def fit_gaussian(features):\n",
    "    means = np.mean(features, axis=0) # calculate means\n",
    "    cov = np.cov(features.T)          # calculate covariance matrix\n",
    "    return means, cov\n",
    "\n",
    "# sample from multi-dim gaussian, return image\n",
    "def sample_qda(mean, cov):\n",
    "    return np.random.multivariate_normal(mean, cov).reshape(9,9)"
   ]
  },
  {
   "cell_type": "code",
   "execution_count": 25,
   "metadata": {},
   "outputs": [],
   "source": [
    "means, cov = fit_gaussian(x)"
   ]
  },
  {
   "cell_type": "code",
   "execution_count": 26,
   "metadata": {
    "scrolled": false
   },
   "outputs": [
    {
     "data": {
      "image/png": "[encoded data removed]",
      "text/plain": [
       "<matplotlib.figure.Figure at 0x1f468c1d7f0>"
      ]
     },
     "metadata": {},
     "output_type": "display_data"
    }
   ],
   "source": [
    "fig, axes = plt.subplots(2, 4, figsize=(14, 6))\n",
    "for ax in axes.flatten():\n",
    "    ax.imshow(sample_qda(means, cov), cmap='Greys')"
   ]
  }
 ],
 "metadata": {
  "kernelspec": {
   "display_name": "Python 3",
   "language": "python",
   "name": "python3"
  },
  "language_info": {
   "codemirror_mode": {
    "name": "ipython",
    "version": 3
   },
   "file_extension": ".py",
   "mimetype": "text/x-python",
   "name": "python",
   "nbconvert_exporter": "python",
   "pygments_lexer": "ipython3",
   "version": "3.6.3"
  }
 },
 "nbformat": 4,
 "nbformat_minor": 2
}
