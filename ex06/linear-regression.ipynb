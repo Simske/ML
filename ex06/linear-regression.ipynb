{
 "cells": [
  {
   "cell_type": "code",
   "execution_count": 6,
   "metadata": {},
   "outputs": [],
   "source": [
    "%matplotlib inline\n",
    "import numpy as np\n",
    "import matplotlib.pyplot as plt\n",
    "import scipy.sparse as sp\n",
    "import time"
   ]
  },
  {
   "cell_type": "markdown",
   "metadata": {},
   "source": [
    "# 1. Construction the matrix X"
   ]
  },
  {
   "cell_type": "code",
   "execution_count": 11,
   "metadata": {
    "collapsed": true
   },
   "outputs": [],
   "source": [
    "def construct_X(M, angles, Np=None, tau=0):\n",
    "    \"\"\"\n",
    "    Construct weight matrix for image dimensions MxM,\n",
    "    angles: Array of sensor angles\n",
    "    Np: number of sensors\n",
    "    \n",
    "    Indice names:\n",
    "    i_p : sensor index\n",
    "    i_o : angle/orientation index\n",
    "    i = i_p + Np * i_o  : response index\n",
    "    a, b : image coordinates\n",
    "    j = a + M * b   : flattened image coordinates\n",
    "    \"\"\"\n",
    "    if Np is None:\n",
    "        Np = int(np.ceil(np.sqrt(2) * M))\n",
    "        Np = Np if Np % 2 else Np + 1\n",
    "#         print(f\"Np = {Np}\")\n",
    "    # index boundaries\n",
    "    D = M**2\n",
    "    No = len(angles)\n",
    "    N = No * Np\n",
    "    \n",
    "    # coordinate matrix: coordinates of all pixel centers\n",
    "    # as column vectors\n",
    "    C = np.mgrid[M-1:-1:-1, :M:1].astype(np.float64).reshape(2, -1)\n",
    "    center = M / 2\n",
    "    C += 0.5 - center\n",
    "        \n",
    "    # convert angles from degrees to radians\n",
    "    angles = np.unwrap(np.deg2rad(angles))\n",
    "    \n",
    "    # matrix of normal vectors for sensor positions\n",
    "    n = np.column_stack([np.sin(angles), np.cos(angles)])\n",
    "    \n",
    "    # position of sensor 0 to sensor coordinate system\n",
    "    s0 = Np / 2 - 0.5\n",
    "    \n",
    "    # projections of pixel onto sensor\n",
    "    # first dim: angles, 2. dim: j\n",
    "    p = np.dot(n, C) + s0\n",
    "\n",
    "    # floor as left sensor index, fraction as weight for right sensor\n",
    "    i_ind1, weight2 = np.divmod(p, 1)\n",
    "    # weight for left sensor, indices for right sensor\n",
    "    weight1 = 1 - weight2\n",
    "    i_ind2 = i_ind1 + 1\n",
    "    # filter all sensor out of range\n",
    "    mask1 = np.logical_and(i_ind1 >= 0, i_ind1 < Np)\n",
    "    mask2 = np.logical_and(i_ind2 >= 0, i_ind2 < Np)\n",
    "    # transform i_ind from i_p to i = i_p + Np * i_o\n",
    "    for i_o in range(No):\n",
    "        i_ind1[i_o] += i_o * Np\n",
    "        i_ind2[i_o] += i_o * Np\n",
    "    # generate j_indices from mask\n",
    "    j_ind1 = np.nonzero(mask1.flatten())[0] % D\n",
    "    j_ind2 = np.nonzero(mask2.flatten())[0] % D\n",
    "    # concatenate & flatten all indices and weights\n",
    "    weights = np.concatenate((weight1[mask1].flatten(), weight2[mask2].flatten()))\n",
    "    i_ind = np.concatenate((i_ind1[mask1].flatten(), i_ind2[mask2].flatten()))\n",
    "    j_ind = np.concatenate((j_ind1, j_ind2))\n",
    "    \n",
    "    # construct sparse matrix convert to csc-matrix for solving\n",
    "    X = sp.coo_matrix((weights, (i_ind, j_ind)), shape=(N, D), dtype=np.float32)\n",
    "    if tau == 0:\n",
    "        return X\n",
    "    else:\n",
    "        tau_mat = tau * sp.identity(D)\n",
    "        return sp.vstack((X, tau_mat), format='csc')"
   ]
  },
  {
   "cell_type": "code",
   "execution_count": 12,
   "metadata": {},
   "outputs": [
    {
     "name": "stdout",
     "output_type": "stream",
     "text": [
      "548 µs ± 34.9 µs per loop (mean ± std. dev. of 7 runs, 1000 loops each)\n"
     ]
    }
   ],
   "source": [
    "%%timeit\n",
    "# Test function with example given on sheet\n",
    "X = construct_X(10, [-33, 1, 42])"
   ]
  },
  {
   "cell_type": "code",
   "execution_count": 19,
   "metadata": {
    "collapsed": true
   },
   "outputs": [],
   "source": [
    "X = construct_X(10, [-33, 1, 42], tau=0.5)"
   ]
  },
  {
   "cell_type": "code",
   "execution_count": 20,
   "metadata": {
    "scrolled": false
   },
   "outputs": [
    {
     "data": {
      "text/plain": [
       "Text(0.5,1,'Weight matrix for $M=10$, angles=[-33,1,42]')"
      ]
     },
     "execution_count": 20,
     "metadata": {},
     "output_type": "execute_result"
    },
    {
     "data": {
      "image/png": "[encoded data removed]",
      "text/plain": [
       "<matplotlib.figure.Figure at 0x119fc4048>"
      ]
     },
     "metadata": {},
     "output_type": "display_data"
    }
   ],
   "source": [
    "X_dense = X.todense()\n",
    "plt.imshow(X_dense, cmap='bone')\n",
    "plt.ylabel('i'); plt.xlabel('j')\n",
    "plt.title('Weight matrix for $M=10$, angles=[-33,1,42]')"
   ]
  },
  {
   "cell_type": "markdown",
   "metadata": {},
   "source": [
    "# 2. Recovering the image"
   ]
  },
  {
   "cell_type": "code",
   "execution_count": 58,
   "metadata": {
    "collapsed": true
   },
   "outputs": [],
   "source": [
    "def image(alphas, response, M, Np, tau=0, tol=1e-4, verbose=True):\n",
    "    \"Recover image and measure time\"\n",
    "    if verbose:\n",
    "        print(f\"Recovering image with M={M}, Np={Np}, No={len(alphas)}, tolerance={tol}\")\n",
    "    t0 = time.time()\n",
    "    # construct weight matrix\n",
    "    X = construct_X(M, alphas, Np)\n",
    "    t1 = time.time()\n",
    "    if verbose:\n",
    "        print(f\"Sparsity of X: { 1 - X.nnz / np.product(X.shape)}, Time to construct X: {t1-t0:.2f}s\")\n",
    "    # extend response vector if necesary\n",
    "    if tau != 0:\n",
    "        response.resize(100)\n",
    "    # find least squares solution\n",
    "    beta = LA.lsqr(X, response, atol=tol, btol=tol)[0]\n",
    "    t2 = time.time()\n",
    "    if verbose:\n",
    "        print(f\"Solved for image in {t2-t1:.2f}s with tolerance {tol}, total time {t2-t0:.2f}s\")\n",
    "    return beta.reshape(M,M)"
   ]
  },
  {
   "cell_type": "code",
   "execution_count": null,
   "metadata": {
    "collapsed": true
   },
   "outputs": [],
   "source": []
  }
 ],
 "metadata": {
  "kernelspec": {
   "display_name": "Python 3",
   "language": "python",
   "name": "python3"
  },
  "language_info": {
   "codemirror_mode": {
    "name": "ipython",
    "version": 3
   },
   "file_extension": ".py",
   "mimetype": "text/x-python",
   "name": "python",
   "nbconvert_exporter": "python",
   "pygments_lexer": "ipython3",
   "version": "3.6.3"
  }
 },
 "nbformat": 4,
 "nbformat_minor": 2
}
