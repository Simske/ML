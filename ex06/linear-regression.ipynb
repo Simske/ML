{
 "cells": [
  {
   "cell_type": "code",
   "execution_count": 42,
   "metadata": {},
   "outputs": [],
   "source": [
    "%matplotlib inline\n",
    "import numpy as np\n",
    "import matplotlib.pyplot as plt\n",
    "import scipy.sparse as sp\n",
    "from scipy.sparse.linalg import lsqr\n",
    "from scipy.ndimage import gaussian_filter\n",
    "import time\n",
    "from sklearn.datasets import load_digits\n",
    "from sklearn.model_selection import train_test_split\n",
    "RANDOMSEED = 125843"
   ]
  },
  {
   "cell_type": "markdown",
   "metadata": {},
   "source": [
    "# 1. Denoising a  CT image"
   ]
  },
  {
   "cell_type": "code",
   "execution_count": 26,
   "metadata": {},
   "outputs": [],
   "source": [
    "def construct_X(M, angles, Np=None, tau=0):\n",
    "    \"\"\"\n",
    "    Construct weight matrix for image dimensions MxM,\n",
    "    angles: Array of sensor angles\n",
    "    Np: number of sensors\n",
    "    \n",
    "    Indice names:\n",
    "    i_p : sensor index\n",
    "    i_o : angle/orientation index\n",
    "    i = i_p + Np * i_o  : response index\n",
    "    a, b : image coordinates\n",
    "    j = a + M * b   : flattened image coordinates\n",
    "    \"\"\"\n",
    "    if Np is None:\n",
    "        Np = int(np.ceil(np.sqrt(2) * M))\n",
    "        Np = Np if Np % 2 else Np + 1\n",
    "#         print(f\"Np = {Np}\")\n",
    "    # index boundaries\n",
    "    D = M**2\n",
    "    No = len(angles)\n",
    "    N = No * Np\n",
    "    \n",
    "    # coordinate matrix: coordinates of all pixel centers\n",
    "    # as column vectors\n",
    "    C = np.mgrid[M-1:-1:-1, :M:1].astype(np.float64).reshape(2, -1)\n",
    "    center = M / 2\n",
    "    C += 0.5 - center\n",
    "        \n",
    "    # convert angles from degrees to radians\n",
    "    angles = np.unwrap(np.deg2rad(angles))\n",
    "    \n",
    "    # matrix of normal vectors for sensor positions\n",
    "    n = np.column_stack([np.sin(angles), np.cos(angles)])\n",
    "    \n",
    "    # position of sensor 0 to sensor coordinate system\n",
    "    s0 = Np / 2 - 0.5\n",
    "    \n",
    "    # projections of pixel onto sensor\n",
    "    # first dim: angles, 2. dim: j\n",
    "    p = np.dot(n, C) + s0\n",
    "\n",
    "    # floor as left sensor index, fraction as weight for right sensor\n",
    "    i_ind1, weight2 = np.divmod(p, 1)\n",
    "    # weight for left sensor, indices for right sensor\n",
    "    weight1 = 1 - weight2\n",
    "    i_ind2 = i_ind1 + 1\n",
    "    # filter all sensor out of range\n",
    "    mask1 = np.logical_and(i_ind1 >= 0, i_ind1 < Np)\n",
    "    mask2 = np.logical_and(i_ind2 >= 0, i_ind2 < Np)\n",
    "    # transform i_ind from i_p to i = i_p + Np * i_o\n",
    "    for i_o in range(No):\n",
    "        i_ind1[i_o] += i_o * Np\n",
    "        i_ind2[i_o] += i_o * Np\n",
    "    # generate j_indices from mask\n",
    "    j_ind1 = np.nonzero(mask1.flatten())[0] % D\n",
    "    j_ind2 = np.nonzero(mask2.flatten())[0] % D\n",
    "    # concatenate & flatten all indices and weights\n",
    "    weights = np.concatenate((weight1[mask1].flatten(), weight2[mask2].flatten()))\n",
    "    i_ind = np.concatenate((i_ind1[mask1].flatten(), i_ind2[mask2].flatten()))\n",
    "    j_ind = np.concatenate((j_ind1, j_ind2))\n",
    "    \n",
    "    # construct sparse matrix convert to csc-matrix for solving\n",
    "    X = sp.coo_matrix((weights, (i_ind, j_ind)), shape=(N, D), dtype=np.float32)\n",
    "    if tau == 0:\n",
    "        return X\n",
    "    else:\n",
    "        tau_mat = np.sqrt(tau) * sp.identity(D)\n",
    "        return sp.vstack((X, tau_mat), format='csc')"
   ]
  },
  {
   "cell_type": "code",
   "execution_count": 27,
   "metadata": {},
   "outputs": [],
   "source": [
    "def image(alphas, response, M, Np, tau=0, tol=1e-4, verbose=True):\n",
    "    \"Recover image and measure time\"\n",
    "    if verbose:\n",
    "        print(f\"Recovering image with M={M}, Np={Np}, No={len(alphas)}, Regularization tau={tau}, tolerance={tol}\")\n",
    "    t0 = time.time()\n",
    "    # construct weight matrix\n",
    "    X = construct_X(M, alphas, Np, tau)\n",
    "    t1 = time.time()\n",
    "    if verbose:\n",
    "        print(f\"Sparsity of X: { 1 - X.nnz / np.product(X.shape)}, Time to construct X: {t1-t0:.2f}s\")\n",
    "    # extend response vector if necesary\n",
    "    if tau != 0:\n",
    "        response = np.copy(response)\n",
    "        response.resize(X.shape[0])\n",
    "    # find least squares solution\n",
    "    beta = lsqr(X, response, atol=tol, btol=tol)[0]\n",
    "    t2 = time.time()\n",
    "    if verbose:\n",
    "        print(f\"Solved for image in {t2-t1:.2f}s with tolerance {tol}, total time {t2-t0:.2f}s\")\n",
    "    return beta.reshape(M,M)"
   ]
  },
  {
   "cell_type": "code",
   "execution_count": 28,
   "metadata": {},
   "outputs": [],
   "source": [
    "alphas = np.load('hs_tomography/alphas_195.npy')\n",
    "response = np.load('hs_tomography/y_195.npy')"
   ]
  },
  {
   "cell_type": "code",
   "execution_count": null,
   "metadata": {},
   "outputs": [
    {
     "name": "stdout",
     "output_type": "stream",
     "text": [
      "Recovering image with M=195, Np=275, No=179, Regularization tau=0, tolerance=0.0001\n",
      "Sparsity of X: 0.9927272834122856, Time to construct X: 0.98s\n",
      "Solved for image in 3.40s with tolerance 0.0001, total time 4.38s\n",
      "Recovering image with M=195, Np=275, No=179, Regularization tau=1, tolerance=0.0001\n",
      "Sparsity of X: 1.0139682287042497, Time to construct X: 1.58s\n",
      "Solved for image in 2.74s with tolerance 0.0001, total time 4.32s\n",
      "Recovering image with M=195, Np=275, No=179, Regularization tau=10, tolerance=0.0001\n"
     ]
    }
   ],
   "source": [
    "fig, axes = plt.subplots(2,3, figsize=(16,11))\n",
    "tau = [0, 1, 10, 100, 1000, 10000]\n",
    "fig.suptitle(\"Image denoising with regularization\")\n",
    "for t, ax in zip(tau, axes.flat):\n",
    "    beta = image(alphas, response, tol=1e-4, M=195, Np=275, tau=t)\n",
    "    ax.set_title(r\"$\\tau = {}$\".format(t))\n",
    "    ax.imshow(beta, cmap='bone');"
   ]
  },
  {
   "cell_type": "code",
   "execution_count": null,
   "metadata": {},
   "outputs": [],
   "source": [
    "beta_orig = image(alphas, response, tol=1e-4, M=195, Np=275, tau=0)"
   ]
  },
  {
   "cell_type": "code",
   "execution_count": null,
   "metadata": {},
   "outputs": [],
   "source": [
    "fig, axes = plt.subplots(2,3, figsize=(16,11))\n",
    "fig.suptitle(\"Image denoising with gaussian filtering\")\n",
    "sigma = [0,1,2,3,5,7]\n",
    "for s, ax in zip(sigma, axes.flat):\n",
    "    ax.set_title(r\"$\\sigma = {}$\".format(s))\n",
    "    ax.imshow(gaussian_filter(beta_orig, sigma=s), cmap='bone');"
   ]
  },
  {
   "cell_type": "markdown",
   "metadata": {},
   "source": [
    "# 3. Automatic feature selection"
   ]
  },
  {
   "cell_type": "markdown",
   "metadata": {},
   "source": [
    "## 3.1 Orthogonal matching pursuit"
   ]
  },
  {
   "cell_type": "code",
   "execution_count": 131,
   "metadata": {
    "collapsed": true
   },
   "outputs": [],
   "source": [
    "def omp_regression(X, y, T):\n",
    "    \"\"\"\n",
    "    Inputs:\n",
    "    X : NxD matrix\n",
    "    y : N vector\n",
    "    T > 0, integer\n",
    "    \"\"\"\n",
    "    # initialization\n",
    "    # active & inactive columns\n",
    "    active = np.zeros(shape=(X.shape[1]), dtype=bool)\n",
    "    # initial residual\n",
    "    r = np.copy(y)      \n",
    "    \n",
    "    beta = np.zeros((X.shape[1], T))\n",
    "    \n",
    "    for i in range(T):\n",
    "        corr = abs(np.dot(X.T, r))\n",
    "        corr[active] = np.nan\n",
    "        j = np.nanargmax(corr)\n",
    "        active[j] = True\n",
    "\n",
    "        beta[active,i] = lsqr(X[:,active], y)[0]\n",
    "\n",
    "        r = y - np.dot(X[:,active], beta[active,i])\n",
    "    \n",
    "    return beta"
   ]
  },
  {
   "cell_type": "markdown",
   "metadata": {
    "collapsed": true
   },
   "source": [
    "## 3.2 Classification with Sparse LDA"
   ]
  },
  {
   "cell_type": "code",
   "execution_count": 147,
   "metadata": {},
   "outputs": [],
   "source": [
    "digits = load_digits()\n",
    "mask = (digits.target == 1) | (digits.target == 7)\n",
    "x_data = digits.data[mask]/digits.data.max()\n",
    "labels = digits.target[mask]\n",
    "response = np.ones_like(y_labels)\n",
    "response[y_labels == 7] = -1"
   ]
  },
  {
   "cell_type": "code",
   "execution_count": 148,
   "metadata": {
    "collapsed": true
   },
   "outputs": [],
   "source": [
    "# split into training/test set, fit and predict\n",
    "x_train, x_test, y_train, y_test = train_test_split(x_data,\n",
    "                                                    response,\n",
    "                                                    test_size=0.4,\n",
    "                                                    random_state=RANDOMSEED)"
   ]
  },
  {
   "cell_type": "code",
   "execution_count": 161,
   "metadata": {
    "scrolled": false
   },
   "outputs": [],
   "source": [
    "beta = omp_regression(x_train, y_train, 60)"
   ]
  },
  {
   "cell_type": "code",
   "execution_count": 177,
   "metadata": {},
   "outputs": [
    {
     "data": {
      "text/plain": [
       "array([68, 58, 59, 61, 64, 61, 60, 60, 58, 60, 60, 61, 63, 62, 62, 63, 61,\n",
       "       60, 60, 58, 59, 58, 59, 59, 60, 60, 59, 59, 59, 59, 59, 59, 59, 59,\n",
       "       59, 57, 57, 59, 59, 59, 59, 59, 59, 59, 59, 58, 58, 58, 58, 58, 58,\n",
       "       58, 58, 58, 58, 58, 58, 58, 58, 58])"
      ]
     },
     "execution_count": 177,
     "metadata": {},
     "output_type": "execute_result"
    }
   ],
   "source": [
    "predicted = np.dot(x_test, beta)\n",
    "mask = predicted >= 0\n",
    "predicted[mask] = 1\n",
    "predicted[~mask] = 7\n",
    "right_answers = np.equal(predicted.T, y_test)\n",
    "np.count_nonzero(right_answers, axis=1)"
   ]
  },
  {
   "cell_type": "code",
   "execution_count": 175,
   "metadata": {},
   "outputs": [
    {
     "data": {
      "text/plain": [
       "array([[ True, False,  True, ..., False, False,  True],\n",
       "       [False, False,  True, ..., False, False,  True],\n",
       "       [False, False,  True, ..., False, False,  True],\n",
       "       ..., \n",
       "       [ True, False,  True, ..., False, False,  True],\n",
       "       [ True, False,  True, ..., False, False,  True],\n",
       "       [ True, False,  True, ..., False, False,  True]], dtype=bool)"
      ]
     },
     "execution_count": 175,
     "metadata": {},
     "output_type": "execute_result"
    }
   ],
   "source": [
    "np.equal(predicted.T, y_test)"
   ]
  },
  {
   "cell_type": "code",
   "execution_count": 169,
   "metadata": {},
   "outputs": [
    {
     "data": {
      "text/plain": [
       "array([1, 7, 1, 7, 7, 7, 7, 1, 7, 7, 7, 1, 7, 1, 1, 1, 1, 1, 1, 7, 7, 7, 1,\n",
       "       1, 7, 7, 1, 1, 7, 1, 1, 7, 7, 1, 7, 7, 7, 1, 1, 7, 7, 1, 7, 7, 7, 7,\n",
       "       1, 1, 1, 1, 7, 1, 1, 7, 7, 1, 1, 1, 1, 7, 7, 7, 7, 7, 7, 7, 1, 1, 1,\n",
       "       7, 7, 7, 1, 1, 1, 7, 1, 7, 7, 7, 7, 7, 7, 7, 7, 1, 1, 7, 7, 1, 7, 1,\n",
       "       7, 7, 7, 1, 7, 1, 1, 1, 7, 1, 1, 7, 7, 7, 7, 1, 7, 1, 1, 1, 1, 1, 1,\n",
       "       1, 1, 7, 1, 1, 1, 7, 1, 1, 7, 7, 1, 7, 7, 7, 1, 7, 7, 7, 7, 7, 1, 1,\n",
       "       1, 1, 7, 7, 7, 7, 1])"
      ]
     },
     "execution_count": 169,
     "metadata": {},
     "output_type": "execute_result"
    }
   ],
   "source": [
    "y_test"
   ]
  },
  {
   "cell_type": "markdown",
   "metadata": {},
   "source": [
    "## 3.3 One-against-the-rest classification"
   ]
  },
  {
   "cell_type": "code",
   "execution_count": 198,
   "metadata": {},
   "outputs": [],
   "source": [
    "mask7 = digits.target == 7\n",
    "N = digits.data.shape[0] - np.count_nonzero(mask7)\n",
    "other_ind = np.random.choice(N, np.count_nonzero(mask7))\n",
    "x_data = np.concatenate((digits.data[mask7], digits.data[~mask7][other_ind]))\n",
    "y_label = np.concatenate((digits.target[mask7], digits.target[~mask7][other_ind]))"
   ]
  },
  {
   "cell_type": "code",
   "execution_count": 192,
   "metadata": {},
   "outputs": [
    {
     "data": {
      "text/plain": [
       "array([[  0.,   0.,   0.,   2.,  13.,  13.,   0.,   0.,   0.,   0.,   0.,\n",
       "         12.,  10.,  16.,   0.,   0.,   0.,   0.,   7.,  13.,   8.,  11.,\n",
       "          0.,   0.,   0.,   0.,   5.,  16.,  16.,   4.,   0.,   0.,   0.,\n",
       "          0.,   3.,  16.,  16.,   4.,   0.,   0.,   0.,   2.,  14.,   9.,\n",
       "          7.,  13.,   1.,   0.,   0.,   1.,  11.,   8.,   3.,   9.,   8.,\n",
       "          0.,   0.,   0.,   0.,   5.,  10.,  15.,  16.,   0.],\n",
       "       [  0.,   0.,   5.,  15.,   9.,   0.,   0.,   0.,   0.,   0.,  15.,\n",
       "          6.,  11.,   6.,   0.,   0.,   0.,   7.,   9.,   0.,   0.,  14.,\n",
       "          0.,   0.,   0.,   5.,   9.,   0.,   0.,   8.,   6.,   0.,   0.,\n",
       "          4.,  13.,   0.,   0.,   4.,   8.,   0.,   0.,   1.,  16.,   0.,\n",
       "          0.,   4.,  11.,   0.,   0.,   0.,  15.,   7.,   5.,  16.,   4.,\n",
       "          0.,   0.,   0.,   2.,  15.,  15.,   5.,   0.,   0.],\n",
       "       [  0.,   0.,   7.,  15.,  15.,   4.,   0.,   0.,   0.,   8.,  16.,\n",
       "         16.,  16.,   4.,   0.,   0.,   0.,   8.,  15.,   8.,  16.,   4.,\n",
       "          0.,   0.,   0.,   0.,   0.,  10.,  15.,   0.,   0.,   0.,   0.,\n",
       "          0.,   1.,  15.,   9.,   0.,   0.,   0.,   0.,   0.,   6.,  16.,\n",
       "          2.,   0.,   0.,   0.,   0.,   0.,   8.,  16.,   8.,  11.,   9.,\n",
       "          0.,   0.,   0.,   9.,  16.,  16.,  12.,   3.,   0.],\n",
       "       [  0.,   0.,   2.,  15.,  15.,  16.,  11.,   0.,   0.,   0.,   8.,\n",
       "         16.,  11.,   3.,   0.,   0.,   0.,   0.,  13.,   9.,   0.,   0.,\n",
       "          0.,   0.,   0.,   5.,  16.,   3.,   9.,  11.,   3.,   0.,   0.,\n",
       "         10.,  15.,  15.,  16.,  16.,  11.,   0.,   0.,   6.,  16.,  10.,\n",
       "          7.,  16.,   5.,   0.,   0.,   0.,   3.,   4.,  15.,   8.,   0.,\n",
       "          0.,   0.,   0.,   4.,  15.,   7.,   0.,   0.,   0.],\n",
       "       [  0.,   0.,   0.,  11.,   8.,   0.,   0.,   0.,   0.,   0.,   6.,\n",
       "         15.,   2.,   0.,   0.,   0.,   0.,   0.,  13.,   8.,   0.,   4.,\n",
       "          7.,   0.,   0.,   5.,  16.,   2.,   2.,  13.,   9.,   0.,   0.,\n",
       "         10.,  15.,  12.,  15.,  14.,   1.,   0.,   0.,   6.,  16.,   9.,\n",
       "         16.,   5.,   0.,   0.,   0.,   0.,   0.,   6.,  14.,   1.,   0.,\n",
       "          0.,   0.,   0.,   0.,  14.,   7.,   0.,   0.,   0.],\n",
       "       [  0.,   0.,   6.,  13.,  12.,   2.,   0.,   0.,   0.,   0.,   7.,\n",
       "          7.,  10.,  12.,   0.,   0.,   0.,   0.,   0.,   1.,  12.,   9.,\n",
       "          0.,   0.,   0.,   0.,   0.,   7.,  16.,   7.,   0.,   0.,   0.,\n",
       "          0.,   0.,   0.,   5.,  14.,   1.,   0.,   0.,   1.,   7.,   0.,\n",
       "          0.,   7.,  11.,   0.,   0.,   1.,  16.,   4.,   0.,   9.,  11.,\n",
       "          0.,   0.,   0.,   5.,  13.,  12.,  16.,   3.,   0.],\n",
       "       [  0.,   0.,   0.,   9.,   8.,   0.,   0.,   0.,   0.,   0.,   1.,\n",
       "         16.,   2.,   0.,   0.,   0.,   0.,   0.,   6.,  14.,   0.,   0.,\n",
       "          0.,   0.,   0.,   0.,   9.,  11.,   0.,   3.,   0.,   0.,   0.,\n",
       "          0.,  13.,   8.,  13.,  13.,  10.,   0.,   0.,   0.,  12.,  16.,\n",
       "          8.,   0.,  13.,   1.,   0.,   0.,   6.,  16.,   5.,   9.,  13.,\n",
       "          0.,   0.,   0.,   0.,   8.,  15.,  14.,   4.,   0.],\n",
       "       [  0.,   0.,   2.,  13.,  11.,   0.,   0.,   0.,   0.,   0.,  11.,\n",
       "         14.,  11.,   9.,   0.,   0.,   0.,   0.,  15.,   7.,   6.,  12.,\n",
       "          0.,   0.,   0.,   0.,   8.,   5.,   9.,  12.,   0.,   0.,   0.,\n",
       "          0.,   0.,   1.,  14.,   7.,   0.,   0.,   0.,   0.,   0.,   7.,\n",
       "         16.,   0.,   0.,   0.,   0.,   0.,   1.,  12.,  12.,   4.,   4.,\n",
       "          1.,   0.,   0.,   1.,  15.,  16.,  16.,  16.,   7.],\n",
       "       [  0.,   0.,   6.,  14.,  13.,   3.,   0.,   0.,   0.,   0.,  12.,\n",
       "          2.,   3.,  14.,   0.,   0.,   0.,   0.,   0.,   0.,   8.,  13.,\n",
       "          0.,   0.,   0.,   0.,   0.,  12.,  16.,   3.,   0.,   0.,   0.,\n",
       "          0.,   0.,   0.,   8.,  13.,   1.,   0.,   0.,   1.,   7.,   0.,\n",
       "          0.,   7.,  11.,   0.,   0.,   3.,  13.,   2.,   0.,   7.,  13.,\n",
       "          0.,   0.,   0.,   5.,  14.,  14.,  15.,   6.,   0.],\n",
       "       [  0.,   1.,  15.,  16.,   4.,   0.,   0.,   0.,   0.,   9.,  16.,\n",
       "         11.,  14.,   0.,   0.,   0.,   0.,  12.,  10.,   5.,  16.,   0.,\n",
       "          0.,   0.,   0.,   4.,   7.,   8.,  13.,   0.,   0.,   0.,   0.,\n",
       "          0.,   1.,  15.,   6.,   0.,   0.,   0.,   0.,   0.,   5.,  16.,\n",
       "          2.,   0.,   0.,   0.,   0.,   4.,  15.,  14.,  10.,  11.,  12.,\n",
       "          1.,   0.,   0.,  13.,  16.,  16.,  15.,  11.,   1.]])"
      ]
     },
     "execution_count": 192,
     "metadata": {},
     "output_type": "execute_result"
    }
   ],
   "source": [
    "digits.data[~mask7][other_ind]"
   ]
  },
  {
   "cell_type": "code",
   "execution_count": null,
   "metadata": {
    "collapsed": true
   },
   "outputs": [],
   "source": [
    "other = np.random.absolute_import"
   ]
  },
  {
   "cell_type": "code",
   "execution_count": null,
   "metadata": {
    "collapsed": true
   },
   "outputs": [],
   "source": []
  }
 ],
 "metadata": {
  "kernelspec": {
   "display_name": "Python 3",
   "language": "python",
   "name": "python3"
  },
  "language_info": {
   "codemirror_mode": {
    "name": "ipython",
    "version": 3
   },
   "file_extension": ".py",
   "mimetype": "text/x-python",
   "name": "python",
   "nbconvert_exporter": "python",
   "pygments_lexer": "ipython3",
   "version": "3.6.3"
  }
 },
 "nbformat": 4,
 "nbformat_minor": 2
}
