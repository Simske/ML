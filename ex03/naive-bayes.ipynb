{
 "cells": [
  {
   "cell_type": "code",
   "execution_count": 1,
   "metadata": {},
   "outputs": [],
   "source": [
    "import numpy as np\n",
    "%matplotlib inline\n",
    "import matplotlib.pyplot as plt\n",
    "from sklearn.datasets import load_digits\n",
    "from sklearn.model_selection import train_test_split, KFold\n",
    "from scipy.stats import iqr\n",
    "# k-fold instance for cross validation\n",
    "kf = KFold(n_splits=10, shuffle=True)"
   ]
  },
  {
   "cell_type": "code",
   "execution_count": 2,
   "metadata": {},
   "outputs": [
    {
     "name": "stdout",
     "output_type": "stream",
     "text": [
      "Dataset size: 1797\n",
      "Filtered dataset size (only label 3 & 9): 363\n"
     ]
    }
   ],
   "source": [
    "# load data\n",
    "digits = load_digits()\n",
    "print(f\"Dataset size: {len(digits.data)}\")\n",
    "\n",
    "# filter for digits 1 and 7\n",
    "mask = (digits.target == 3) | (digits.target == 9)\n",
    "x_data = digits.data[mask]/digits.data.max()\n",
    "y_labels = digits.target[mask]\n",
    "print(f\"Filtered dataset size (only label 3 & 9): {len(x_data)}\")\n",
    "mask1 = y_labels == 3\n",
    "mask2 = y_labels == 9"
   ]
  },
  {
   "cell_type": "code",
   "execution_count": 3,
   "metadata": {},
   "outputs": [
    {
     "data": {
      "image/png": "[encoded data removed]",
      "text/plain": [
       "<matplotlib.figure.Figure at 0x1a11a922940>"
      ]
     },
     "metadata": {},
     "output_type": "display_data"
    },
    {
     "data": {
      "image/png": "[encoded data removed]",
      "text/plain": [
       "<matplotlib.figure.Figure at 0x1a11a922898>"
      ]
     },
     "metadata": {},
     "output_type": "display_data"
    }
   ],
   "source": [
    "mean1 = np.mean(x_data[mask1], axis=0)\n",
    "mean2 = np.mean(x_data[mask2], axis=0)\n",
    "plt.imshow(mean1.reshape(8,8))\n",
    "plt.figure()\n",
    "plt.imshow(mean2.reshape(8,8))\n",
    "# plt.figure(); plt.imshow(diff.reshape(8,8))\n",
    "# feature_pixels = diff.argsort()[-2:]\n",
    "# function for data reduction to 2 features\n",
    "# reduce_dim = lambda x, pixels : x[:,pixels]\n",
    "def reduce_dim(x):\n",
    "    out = np.empty((x.shape[0], 2))\n",
    "    for i in range(x.shape[0]):\n",
    "        out[i] = np.array( [np.mean(x[i, 24:32]), np.mean(x[i, 32:40])] )\n",
    "    return out\n",
    "\n",
    "# reduce all feature data\n",
    "x_features = reduce_dim(x_data)"
   ]
  },
  {
   "cell_type": "code",
   "execution_count": 4,
   "metadata": {},
   "outputs": [
    {
     "data": {
      "text/plain": [
       "<matplotlib.collections.PathCollection at 0x1a11a9f1da0>"
      ]
     },
     "execution_count": 4,
     "metadata": {},
     "output_type": "execute_result"
    },
    {
     "data": {
      "image/png": "[encoded data removed]",
      "text/plain": [
       "<matplotlib.figure.Figure at 0x1a118b9b940>"
      ]
     },
     "metadata": {},
     "output_type": "display_data"
    }
   ],
   "source": [
    "plt.scatter(x_features[mask1,0], x_features[mask1,1])\n",
    "plt.scatter(x_features[mask2,0], x_features[mask2,1])"
   ]
  },
  {
   "cell_type": "markdown",
   "metadata": {},
   "source": [
    "## Naive Bayes"
   ]
  },
  {
   "cell_type": "markdown",
   "metadata": {},
   "source": [
    "## Fitting"
   ]
  },
  {
   "cell_type": "code",
   "execution_count": 5,
   "metadata": {},
   "outputs": [],
   "source": [
    "def fit_naive_bayes(features, labels, bincount=0):\n",
    "    possible_labels = np.unique(labels)\n",
    "    C = len(possible_labels)\n",
    "    D = features.shape[1]\n",
    "    \n",
    "    if bincount == 0:\n",
    "        for i, label in enumerate(possible_labels):\n",
    "            mask = labels == label\n",
    "            range_ = np.max(features[mask], axis=0) - np.min(features[mask], axis=0)\n",
    "            # Freedman-Diaconis rule\n",
    "            dx = 2 * iqr(features[mask], axis=0) / features[mask].shape[0]**(1/3)\n",
    "            binc = int(np.max(np.ceil(range_ / dx)))\n",
    "            if binc > bincount:\n",
    "                bincount = binc\n",
    "    \n",
    "    histograms = np.empty((C, D, bincount))\n",
    "    binning = np.empty((C, D, 2))\n",
    "    \n",
    "    for i, label in enumerate(possible_labels):\n",
    "        mask = labels == label\n",
    "        for j in range(D):\n",
    "            min_ = np.min(features[mask,j])\n",
    "            dx = (np.max(features[mask,j]) - min_) / bincount\n",
    "            binning[i, j] = np.array([min_, dx])\n",
    "            \n",
    "            histograms[i,j], _ = np.histogram(features[mask,j], bins=bincount, density=True)\n",
    "    \n",
    "    return histograms, binning"
   ]
  },
  {
   "cell_type": "markdown",
   "metadata": {},
   "source": [
    "## Prediction"
   ]
  },
  {
   "cell_type": "code",
   "execution_count": 45,
   "metadata": {},
   "outputs": [],
   "source": [
    "def predict_naive_bayes(test_features, histograms, binning, possible_labels=[3,9]):\n",
    "    scores = np.empty((histograms.shape[0], test_features.shape[0]))\n",
    "    for k in range(binning.shape[0]):\n",
    "        bin_indices = np.floor((test_features - binning[k,:,0])/binning[k,:,1]).astype(int)\n",
    "        bin_indices[bin_indices < 0] = 0\n",
    "        bin_indices[bin_indices >= histograms.shape[2]] = histograms.shape[2]-1\n",
    "        probs = np.array([histograms[k, j, bin_indices[:,j]] for j in range(test_features.shape[1])])\n",
    "        \n",
    "        scores[k] = np.sum(np.log(probs), axis=0)\n",
    "    return np.fromiter((possible_labels[k] for k in np.argmax(scores, axis=0)), dtype='int')"
   ]
  },
  {
   "cell_type": "code",
   "execution_count": 46,
   "metadata": {},
   "outputs": [],
   "source": [
    "x_train, x_test, y_train, y_test = train_test_split(x_features, y_labels)\n",
    "histograms, binning = fit_naive_bayes(x_train, y_train)"
   ]
  },
  {
   "cell_type": "code",
   "execution_count": 48,
   "metadata": {},
   "outputs": [
    {
     "name": "stderr",
     "output_type": "stream",
     "text": [
      "C:\\bin\\Anaconda3\\lib\\site-packages\\ipykernel_launcher.py:9: RuntimeWarning: divide by zero encountered in log\n",
      "  if __name__ == '__main__':\n"
     ]
    },
    {
     "data": {
      "text/plain": [
       "array([ True,  True,  True,  True,  True,  True,  True,  True,  True,\n",
       "        True,  True,  True,  True,  True,  True,  True,  True,  True,\n",
       "        True,  True,  True,  True,  True, False, False,  True,  True,\n",
       "        True,  True,  True, False,  True,  True,  True, False,  True,\n",
       "       False, False,  True,  True,  True,  True,  True,  True,  True,\n",
       "        True,  True,  True,  True,  True,  True,  True,  True,  True,\n",
       "        True,  True,  True,  True,  True,  True, False,  True,  True,\n",
       "        True,  True,  True,  True,  True,  True,  True, False,  True,\n",
       "        True,  True,  True, False,  True,  True,  True, False,  True,\n",
       "        True,  True,  True,  True,  True,  True,  True,  True,  True,  True], dtype=bool)"
      ]
     },
     "execution_count": 48,
     "metadata": {},
     "output_type": "execute_result"
    }
   ],
   "source": [
    "predict_naive_bayes(x_test, histograms, binning) == y_test"
   ]
  },
  {
   "cell_type": "code",
   "execution_count": 9,
   "metadata": {},
   "outputs": [],
   "source": [
    "x = binning[0,0,0] + binning[0,0,1] * np.arange(0,histograms.shape[2])"
   ]
  },
  {
   "cell_type": "code",
   "execution_count": 10,
   "metadata": {},
   "outputs": [
    {
     "data": {
      "text/plain": [
       "<Container object of 14 artists>"
      ]
     },
     "execution_count": 10,
     "metadata": {},
     "output_type": "execute_result"
    },
    {
     "data": {
      "image/png": "[encoded data removed]",
      "text/plain": [
       "<matplotlib.figure.Figure at 0x1f5abab26d8>"
      ]
     },
     "metadata": {},
     "output_type": "display_data"
    }
   ],
   "source": [
    "plt.bar(x, histograms[0,0], width=binning[0,0,1])"
   ]
  },
  {
   "cell_type": "code",
   "execution_count": 17,
   "metadata": {},
   "outputs": [
    {
     "data": {
      "text/plain": [
       "array([[[ 0.1328125 ,  0.02120536],\n",
       "        [ 0.140625  ,  0.02287946]],\n",
       "\n",
       "       [[ 0.203125  ,  0.02957589],\n",
       "        [ 0.09375   ,  0.03069196]]])"
      ]
     },
     "execution_count": 17,
     "metadata": {},
     "output_type": "execute_result"
    }
   ],
   "source": [
    "binning"
   ]
  },
  {
   "cell_type": "code",
   "execution_count": 41,
   "metadata": {},
   "outputs": [],
   "source": [
    "a = np.array([[0.233, 0.231], [0.30, 0.52]])"
   ]
  },
  {
   "cell_type": "code",
   "execution_count": 57,
   "metadata": {},
   "outputs": [],
   "source": [
    "b = np.floor((a - binning[0,:,0]) / binning[0,:,1]).astype(int)"
   ]
  },
  {
   "cell_type": "code",
   "execution_count": 105,
   "metadata": {},
   "outputs": [
    {
     "data": {
      "text/plain": [
       "(91, 2)"
      ]
     },
     "execution_count": 105,
     "metadata": {},
     "output_type": "execute_result"
    }
   ],
   "source": [
    "x_test.shape"
   ]
  },
  {
   "cell_type": "code",
   "execution_count": 65,
   "metadata": {},
   "outputs": [
    {
     "data": {
      "text/plain": [
       "array([3, 9, 9, 3, 3, 3, 9, 9, 9, 3, 9, 3, 3, 3, 9, 3, 3, 3, 9, 3, 9, 9, 9,\n",
       "       3, 9, 3, 3, 9, 3, 3, 9, 3, 3, 9, 9, 3, 3, 3, 9, 9, 3, 9, 9, 3, 9, 9,\n",
       "       3, 3, 3, 9, 9, 3, 3, 3, 3, 3, 3, 3, 3, 9, 3, 9, 3, 3, 9, 3, 3, 3, 3,\n",
       "       9, 9, 9, 3, 9, 3, 3, 9, 9, 3, 9, 9, 3, 9, 9, 3, 9, 3, 3, 9, 3, 9, 9,\n",
       "       9, 9, 9, 9, 3, 9, 3, 9, 9, 9, 9, 9, 3, 3, 3, 3, 9, 9, 9, 3, 3, 3, 9,\n",
       "       9, 3, 3, 3, 9, 3, 3, 9, 9, 9, 3, 9, 3, 3, 9, 3, 9, 3, 9, 3, 3, 3, 9,\n",
       "       3, 9, 9, 9, 9, 3, 3, 9, 3, 3, 9, 3, 3, 3, 9, 9, 9, 3, 9, 3, 3, 3, 3,\n",
       "       9, 3, 3, 3, 9, 9, 9, 9, 9, 9, 3, 9, 9, 9, 9, 9, 9, 9, 3, 3, 3, 3, 3,\n",
       "       9, 9, 9, 9, 3, 3, 3, 9, 3, 9, 3, 3, 3, 3, 3, 3, 3, 9, 3, 3, 3, 9, 9,\n",
       "       9, 9, 3, 3, 9, 9, 3, 9, 9, 9, 9, 3, 9, 3, 3, 9, 9, 9, 9, 3, 9, 3, 9,\n",
       "       9, 9, 3, 3, 3, 3, 9, 9, 9, 9, 3, 3, 9, 3, 3, 9, 3, 3, 3, 9, 3, 9, 9,\n",
       "       9, 9, 3, 3, 9, 9, 9, 3, 9, 3, 3, 9, 9, 9, 9, 3, 3, 3, 9])"
      ]
     },
     "execution_count": 65,
     "metadata": {},
     "output_type": "execute_result"
    }
   ],
   "source": [
    "x_test"
   ]
  },
  {
   "cell_type": "code",
   "execution_count": null,
   "metadata": {},
   "outputs": [],
   "source": []
  },
  {
   "cell_type": "code",
   "execution_count": null,
   "metadata": {},
   "outputs": [],
   "source": []
  }
 ],
 "metadata": {
  "kernelspec": {
   "display_name": "Python 3",
   "language": "python",
   "name": "python3"
  },
  "language_info": {
   "codemirror_mode": {
    "name": "ipython",
    "version": 3
   },
   "file_extension": ".py",
   "mimetype": "text/x-python",
   "name": "python",
   "nbconvert_exporter": "python",
   "pygments_lexer": "ipython3",
   "version": "3.6.3"
  }
 },
 "nbformat": 4,
 "nbformat_minor": 2
}
