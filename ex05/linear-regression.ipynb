{
 "cells": [
  {
   "cell_type": "code",
   "execution_count": 1,
   "metadata": {},
   "outputs": [],
   "source": [
    "%matplotlib inline\n",
    "import numpy as np\n",
    "import matplotlib.pyplot as plt\n",
    "from scipy.sparse import coo_matrix, csc_matrix"
   ]
  },
  {
   "cell_type": "markdown",
   "metadata": {},
   "source": [
    "# 1. Construction the matrix X"
   ]
  },
  {
   "cell_type": "code",
   "execution_count": 2,
   "metadata": {},
   "outputs": [],
   "source": [
    "np.set_printoptions(suppress=1)"
   ]
  },
  {
   "cell_type": "code",
   "execution_count": 3,
   "metadata": {},
   "outputs": [],
   "source": [
    "def construct_X(M, angles, Np=None):\n",
    "    if Np is None:\n",
    "        Np = int(np.ceil(np.sqrt(2) * M))\n",
    "        if Np % 2 == 0:\n",
    "            Np += 1\n",
    "    \n",
    "    D = M**2\n",
    "    No = len(angles)\n",
    "    N = No * Np\n",
    "    \n",
    "    # coordinate matrix\n",
    "    C = np.mgrid[:M, :M].astype(np.float64).reshape(2, -1)\n",
    "    center = M / 2\n",
    "    C += 0.5 - center\n",
    "    print(C)\n",
    "    \n",
    "    # convert angles from degrees to radians\n",
    "    angles = np.unwrap(np.deg2rad(angles))\n",
    "    \n",
    "    # matrix of normal vectors for rays\n",
    "    n = np.column_stack([np.cos(angles), np.sin(angles)])\n",
    "    \n",
    "    # position of sensor 0 to sensor coordinate system\n",
    "    s0 = Np / 2 - 0.5\n",
    "    \n",
    "    # projections if pixel onto sensor\n",
    "    # first dim: angles, 2. dim: j\n",
    "    p = np.dot(n, C) + s0\n",
    "    \n",
    "#     print(p[0].reshape(M,M))\n",
    "    \n",
    "#     print(p)\n",
    "#     weight1, i_ind1 = np.modf(p)\n",
    "#     print(weight1)\n",
    "#     i_ind1 = i_ind1.astype(int)\n",
    "# #     weight, i_ind = np.concatenate((weight1, 1 - weight1)), np.concatenate((i_ind1, i_ind1 + 1))\n",
    "#     weight, i_ind = weight1, i_ind1\n",
    "#     mask = np.logical_and(i_ind >= 0, i_ind < Np)\n",
    "#     for i_o in range(No):\n",
    "#         x = i_o * D\n",
    "#         i_ind[x : x+Np] += i_o * Np\n",
    "# #         i_ind[D*No+x: D*No+x+Np] += x\n",
    "#     print(i_ind)\n",
    "#     j_ind = np.nonzero(mask)[0] % D\n",
    "    \n",
    "#     return coo_matrix((weight[mask], (i_ind[mask], j_ind)), shape=(N, D), dtype=np.float32)\n",
    "    \n",
    "    # lists for building of sparse matrix\n",
    "    weights, i_ind, j_ind = [], [], []\n",
    "    \n",
    "    j_all_ind = np.arange(M**2)\n",
    "    j_all_ind = np.concatenate((j_all_ind, j_all_ind))\n",
    "    \n",
    "    # find weights for every angle\n",
    "    for i_o, pixels in enumerate(p):\n",
    "        pixel_floor = np.floor(pixels).astype(int)\n",
    "        alpha = pixels - pixel_floor\n",
    "        sensor_ind = np.concatenate((pixel_floor, pixel_floor+1))\n",
    "        weight = np.concatenate((1-alpha, alpha))\n",
    "        mask = np.logical_and(sensor_ind >= 0, sensor_ind < Np)\n",
    "        \n",
    "        weights += list(weight[mask])\n",
    "        i_ind += list(sensor_ind[mask] + i_o * Np)\n",
    "#         j_ind += list(j_all_ind[mask])\n",
    "        j_ind += list(np.nonzero(mask)[0] % D)\n",
    "    \n",
    "    return coo_matrix((weights, (i_ind, j_ind)), shape=(N, D), dtype=np.float32)"
   ]
  },
  {
   "cell_type": "code",
   "execution_count": 4,
   "metadata": {},
   "outputs": [
    {
     "name": "stdout",
     "output_type": "stream",
     "text": [
      "[[-4.5 -4.5 -4.5 -4.5 -4.5 -4.5 -4.5 -4.5 -4.5 -4.5 -3.5 -3.5 -3.5 -3.5\n",
      "  -3.5 -3.5 -3.5 -3.5 -3.5 -3.5 -2.5 -2.5 -2.5 -2.5 -2.5 -2.5 -2.5 -2.5\n",
      "  -2.5 -2.5 -1.5 -1.5 -1.5 -1.5 -1.5 -1.5 -1.5 -1.5 -1.5 -1.5 -0.5 -0.5\n",
      "  -0.5 -0.5 -0.5 -0.5 -0.5 -0.5 -0.5 -0.5  0.5  0.5  0.5  0.5  0.5  0.5\n",
      "   0.5  0.5  0.5  0.5  1.5  1.5  1.5  1.5  1.5  1.5  1.5  1.5  1.5  1.5\n",
      "   2.5  2.5  2.5  2.5  2.5  2.5  2.5  2.5  2.5  2.5  3.5  3.5  3.5  3.5\n",
      "   3.5  3.5  3.5  3.5  3.5  3.5  4.5  4.5  4.5  4.5  4.5  4.5  4.5  4.5\n",
      "   4.5  4.5]\n",
      " [-4.5 -3.5 -2.5 -1.5 -0.5  0.5  1.5  2.5  3.5  4.5 -4.5 -3.5 -2.5 -1.5\n",
      "  -0.5  0.5  1.5  2.5  3.5  4.5 -4.5 -3.5 -2.5 -1.5 -0.5  0.5  1.5  2.5\n",
      "   3.5  4.5 -4.5 -3.5 -2.5 -1.5 -0.5  0.5  1.5  2.5  3.5  4.5 -4.5 -3.5\n",
      "  -2.5 -1.5 -0.5  0.5  1.5  2.5  3.5  4.5 -4.5 -3.5 -2.5 -1.5 -0.5  0.5\n",
      "   1.5  2.5  3.5  4.5 -4.5 -3.5 -2.5 -1.5 -0.5  0.5  1.5  2.5  3.5  4.5\n",
      "  -4.5 -3.5 -2.5 -1.5 -0.5  0.5  1.5  2.5  3.5  4.5 -4.5 -3.5 -2.5 -1.5\n",
      "  -0.5  0.5  1.5  2.5  3.5  4.5 -4.5 -3.5 -2.5 -1.5 -0.5  0.5  1.5  2.5\n",
      "   3.5  4.5]]\n"
     ]
    },
    {
     "data": {
      "text/plain": [
       "<matplotlib.image.AxesImage at 0x19d0249cac8>"
      ]
     },
     "execution_count": 4,
     "metadata": {},
     "output_type": "execute_result"
    },
    {
     "data": {
      "image/png": "[encoded data removed]",
      "text/plain": [
       "<matplotlib.figure.Figure at 0x19d023b02b0>"
      ]
     },
     "metadata": {},
     "output_type": "display_data"
    }
   ],
   "source": [
    "X = construct_X(10, [-33, 1, 42])\n",
    "X_dense = X.todense()\n",
    "plt.imshow(X_dense, cmap='Greys')"
   ]
  },
  {
   "cell_type": "code",
   "execution_count": 253,
   "metadata": {},
   "outputs": [],
   "source": [
    "X_ex =np.load('hs_tomography/X_example.npy')"
   ]
  },
  {
   "cell_type": "code",
   "execution_count": 275,
   "metadata": {},
   "outputs": [
    {
     "data": {
      "text/plain": [
       "<matplotlib.image.AxesImage at 0x13d81723588>"
      ]
     },
     "execution_count": 275,
     "metadata": {},
     "output_type": "execute_result"
    },
    {
     "data": {
      "image/png": "[encoded data removed]",
      "text/plain": [
       "<matplotlib.figure.Figure at 0x13d81f3b908>"
      ]
     },
     "metadata": {},
     "output_type": "display_data"
    }
   ],
   "source": [
    "plt.imshow(X_ex, cmap='Greys')"
   ]
  },
  {
   "cell_type": "code",
   "execution_count": null,
   "metadata": {},
   "outputs": [],
   "source": [
    "%matplotlib inline\n",
    "import numpy as np\n",
    "import matplotlib.pyplot as plt"
   ]
  }
 ],
 "metadata": {
  "kernelspec": {
   "display_name": "Python 3",
   "language": "python",
   "name": "python3"
  },
  "language_info": {
   "codemirror_mode": {
    "name": "ipython",
    "version": 3
   },
   "file_extension": ".py",
   "mimetype": "text/x-python",
   "name": "python",
   "nbconvert_exporter": "python",
   "pygments_lexer": "ipython3",
   "version": "3.6.3"
  }
 },
 "nbformat": 4,
 "nbformat_minor": 2
}
