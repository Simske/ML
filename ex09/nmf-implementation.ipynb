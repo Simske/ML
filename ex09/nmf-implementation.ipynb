{
 "cells": [
  {
   "cell_type": "code",
   "execution_count": 20,
   "metadata": {},
   "outputs": [],
   "source": [
    "import numpy as np\n",
    "%matplotlib inline\n",
    "import matplotlib.pyplot as plt\n",
    "import pandas as pd\n",
    "from sklearn import decomposition"
   ]
  },
  {
   "cell_type": "code",
   "execution_count": 46,
   "metadata": {},
   "outputs": [],
   "source": [
    "from sklearn.datasets import load_digits\n",
    "digits = load_digits()\n",
    "X = digits['data']/255\n",
    "Y = digits['target']"
   ]
  },
  {
   "cell_type": "markdown",
   "metadata": {},
   "source": [
    "# 4 Implementation - Non-negative matrix factorization (assuming Gauss noise)"
   ]
  },
  {
   "cell_type": "code",
   "execution_count": 47,
   "metadata": {},
   "outputs": [],
   "source": [
    "def NMF_gauss(data, num_components, T=1000, eps=1e-10):\n",
    "    N, D = data.shape\n",
    "    \n",
    "    # initial guess\n",
    "    H = np.abs(np.random.randn(num_components, D))\n",
    "    W = np.abs(np.random.randn(N, num_components))\n",
    "    \n",
    "    for _ in range(T):\n",
    "        H = H * np.dot(W.T, data) / np.clip(np.dot(np.dot(W.T, W), H), eps, None)\n",
    "        W = W * np.dot(data, H.T) / np.clip(np.dot(W, np.dot(H, H.T)), eps, None)\n",
    "        \n",
    "    return W, H"
   ]
  },
  {
   "cell_type": "code",
   "execution_count": 42,
   "metadata": {
    "scrolled": true
   },
   "outputs": [],
   "source": [
    "# self written NMF, assuming Gaussian noise\n",
    "W_gauss, H_gauss = NMF_gauss(X, 10)\n",
    "\n",
    "# Scikit learn NMF, assuming Poisson-distributed noise\n",
    "nmf_poisson = decomposition.NMF(n_components=10)\n",
    "W_poisson = nmf_poisson.fit_transform(X)\n",
    "H_poisson = nmf_poisson.components_"
   ]
  },
  {
   "cell_type": "code",
   "execution_count": 45,
   "metadata": {
    "scrolled": false
   },
   "outputs": [
    {
     "data": {
      "text/plain": [
       "<matplotlib.image.AxesImage at 0x1a91695d898>"
      ]
     },
     "execution_count": 45,
     "metadata": {},
     "output_type": "execute_result"
    },
    {
     "data": {
      "image/png": "[encoded data removed]",
      "text/plain": [
       "<matplotlib.figure.Figure at 0x1a9167ca390>"
      ]
     },
     "metadata": {},
     "output_type": "display_data"
    }
   ],
   "source": [
    "fig, ax = plt.subplots(1, 3, figsize=(10, 5))\n",
    "\n",
    "rand = np.random.randint(X.shape[0])\n",
    "ax[0].set_title('Original')\n",
    "ax[0].imshow(X[rand].reshape(8,8), cmap='gray')\n",
    "ax[1].set_title('Reconstructed (Poisson noise)')\n",
    "ax[1].imshow(np.dot(W_poisson[rand], H_poisson).reshape(8,8), cmap='gray')\n",
    "ax[2].set_title('Reconstructed (Gauss noise)')\n",
    "ax[2].imshow(np.dot(W_gauss[rand], H_gauss).reshape(8,8), cmap='gray')"
   ]
  },
  {
   "cell_type": "markdown",
   "metadata": {},
   "source": [
    "As we can see, both NMF methods perform similar, the Gaussian looks a bit more fuzzy."
   ]
  },
  {
   "cell_type": "markdown",
   "metadata": {},
   "source": [
    "## 4. Recommender System"
   ]
  },
  {
   "cell_type": "code",
   "execution_count": 152,
   "metadata": {},
   "outputs": [
    {
     "name": "stdout",
     "output_type": "stream",
     "text": [
      "Sparsity of ratings matrix: 0.9370\n"
     ]
    }
   ],
   "source": [
    "# column headers for the dataset\n",
    "ratings_cols = ['user id','movie id','rating','timestamp']\n",
    "movies_cols = ['movie id','movie title','release date',\n",
    "'video release date','IMDb URL','unknown','Action',\n",
    "'Adventure','Animation','Childrens','Comedy','Crime',\n",
    "'Documentary','Drama','Fantasy ','Film-Noir','Horror',\n",
    "'Musical','Mystery','Romance','Sci-Fi','Thriller',\n",
    "'War' ,'Western']\n",
    "users_cols = ['user id','age','gender','occupation ', 'zip code']\n",
    "\n",
    "# import files\n",
    "users = pd.read_csv('ml-100k/u.user', sep='|', names=users_cols, encoding='latin-1')\n",
    "movies = pd.read_csv('ml-100k/u.item', sep='|', names=movies_cols, encoding='latin-1')\n",
    "ratings = pd.read_csv('ml-100k/u.data', sep='\\t', names=ratings_cols, encoding='latin-1')\n",
    "\n",
    "# joint ratings dataframe\n",
    "fill_value = 0\n",
    "rat_df = ratings.pivot(index='user id', columns='movie id', values='rating').fillna(fill_value)\n",
    "sparsity = lambda matrix : 1 - np.count_nonzero(matrix) / np.product(rat_df.shape)\n",
    "print('Sparsity of ratings matrix: {:.4f}'.format(sparsity(rat_df)))"
   ]
  },
  {
   "cell_type": "code",
   "execution_count": 153,
   "metadata": {},
   "outputs": [
    {
     "name": "stdout",
     "output_type": "stream",
     "text": [
      "Sparsity of reconstruction matrix: 0.0008\n"
     ]
    }
   ],
   "source": [
    "W, H = non_negative(rat_df, num_components=25)\n",
    "reconstruction = pd.DataFrame(np.dot(W, H), columns=rat_df.columns)\n",
    "print('Sparsity of reconstruction matrix: {:.4f}'.format(sparsity(reconstruction)))"
   ]
  },
  {
   "cell_type": "code",
   "execution_count": 154,
   "metadata": {},
   "outputs": [],
   "source": [
    "def recommend_movies(reconstruction, user_id, movies, ratings, n=5):\n",
    "    user_reconstruction = reconstruction.loc[user_id].as_matrix()\n",
    "    # mask for already seen\n",
    "    already_seen = ratings['movie id'][ratings['user id'] == user_id].as_matrix()\n",
    "    # find best ratings\n",
    "    sorted_by_rating = np.argsort(user_reconstruction)\n",
    "    # filter already seen movies\n",
    "    filter_seen = np.logical_not(np.isin(reconstruction.columns[sorted_by_rating], already_seen))\n",
    "    # index to movie id\n",
    "    best_movies = reconstruction.columns[sorted_by_rating][filter_seen]\n",
    "    # return last n elements in reverse order, to get movie id in descending rating\n",
    "    return best_movies[:-n-1:-1]"
   ]
  },
  {
   "cell_type": "code",
   "execution_count": 157,
   "metadata": {},
   "outputs": [
    {
     "data": {
      "text/html": [
       "<div>\n",
       "<style scoped>\n",
       "    .dataframe tbody tr th:only-of-type {\n",
       "        vertical-align: middle;\n",
       "    }\n",
       "\n",
       "    .dataframe tbody tr th {\n",
       "        vertical-align: top;\n",
       "    }\n",
       "\n",
       "    .dataframe thead th {\n",
       "        text-align: right;\n",
       "    }\n",
       "</style>\n",
       "<table border=\"1\" class=\"dataframe\">\n",
       "  <thead>\n",
       "    <tr style=\"text-align: right;\">\n",
       "      <th></th>\n",
       "      <th>movie id</th>\n",
       "      <th>movie title</th>\n",
       "      <th>release date</th>\n",
       "      <th>video release date</th>\n",
       "      <th>IMDb URL</th>\n",
       "      <th>unknown</th>\n",
       "      <th>Action</th>\n",
       "      <th>Adventure</th>\n",
       "      <th>Animation</th>\n",
       "      <th>Childrens</th>\n",
       "      <th>...</th>\n",
       "      <th>Fantasy</th>\n",
       "      <th>Film-Noir</th>\n",
       "      <th>Horror</th>\n",
       "      <th>Musical</th>\n",
       "      <th>Mystery</th>\n",
       "      <th>Romance</th>\n",
       "      <th>Sci-Fi</th>\n",
       "      <th>Thriller</th>\n",
       "      <th>War</th>\n",
       "      <th>Western</th>\n",
       "    </tr>\n",
       "    <tr>\n",
       "      <th>movie id</th>\n",
       "      <th></th>\n",
       "      <th></th>\n",
       "      <th></th>\n",
       "      <th></th>\n",
       "      <th></th>\n",
       "      <th></th>\n",
       "      <th></th>\n",
       "      <th></th>\n",
       "      <th></th>\n",
       "      <th></th>\n",
       "      <th></th>\n",
       "      <th></th>\n",
       "      <th></th>\n",
       "      <th></th>\n",
       "      <th></th>\n",
       "      <th></th>\n",
       "      <th></th>\n",
       "      <th></th>\n",
       "      <th></th>\n",
       "      <th></th>\n",
       "      <th></th>\n",
       "    </tr>\n",
       "  </thead>\n",
       "  <tbody>\n",
       "    <tr>\n",
       "      <th>300</th>\n",
       "      <td>301</td>\n",
       "      <td>In &amp; Out (1997)</td>\n",
       "      <td>19-Sep-1997</td>\n",
       "      <td>NaN</td>\n",
       "      <td>http://us.imdb.com/Title?In+%26+Out+(1997)</td>\n",
       "      <td>0</td>\n",
       "      <td>0</td>\n",
       "      <td>0</td>\n",
       "      <td>0</td>\n",
       "      <td>0</td>\n",
       "      <td>...</td>\n",
       "      <td>0</td>\n",
       "      <td>0</td>\n",
       "      <td>0</td>\n",
       "      <td>0</td>\n",
       "      <td>0</td>\n",
       "      <td>0</td>\n",
       "      <td>0</td>\n",
       "      <td>0</td>\n",
       "      <td>0</td>\n",
       "      <td>0</td>\n",
       "    </tr>\n",
       "    <tr>\n",
       "      <th>258</th>\n",
       "      <td>259</td>\n",
       "      <td>George of the Jungle (1997)</td>\n",
       "      <td>01-Jan-1997</td>\n",
       "      <td>NaN</td>\n",
       "      <td>http://us.imdb.com/M/title-exact?George+of+the...</td>\n",
       "      <td>0</td>\n",
       "      <td>0</td>\n",
       "      <td>0</td>\n",
       "      <td>0</td>\n",
       "      <td>1</td>\n",
       "      <td>...</td>\n",
       "      <td>0</td>\n",
       "      <td>0</td>\n",
       "      <td>0</td>\n",
       "      <td>0</td>\n",
       "      <td>0</td>\n",
       "      <td>0</td>\n",
       "      <td>0</td>\n",
       "      <td>0</td>\n",
       "      <td>0</td>\n",
       "      <td>0</td>\n",
       "    </tr>\n",
       "    <tr>\n",
       "      <th>294</th>\n",
       "      <td>295</td>\n",
       "      <td>Breakdown (1997)</td>\n",
       "      <td>02-May-1997</td>\n",
       "      <td>NaN</td>\n",
       "      <td>http://us.imdb.com/M/title-exact?Breakdown%20%...</td>\n",
       "      <td>0</td>\n",
       "      <td>1</td>\n",
       "      <td>0</td>\n",
       "      <td>0</td>\n",
       "      <td>0</td>\n",
       "      <td>...</td>\n",
       "      <td>0</td>\n",
       "      <td>0</td>\n",
       "      <td>0</td>\n",
       "      <td>0</td>\n",
       "      <td>0</td>\n",
       "      <td>0</td>\n",
       "      <td>0</td>\n",
       "      <td>1</td>\n",
       "      <td>0</td>\n",
       "      <td>0</td>\n",
       "    </tr>\n",
       "    <tr>\n",
       "      <th>286</th>\n",
       "      <td>287</td>\n",
       "      <td>Marvin's Room (1996)</td>\n",
       "      <td>18-Dec-1996</td>\n",
       "      <td>NaN</td>\n",
       "      <td>http://us.imdb.com/M/title-exact?Marvin's%20Ro...</td>\n",
       "      <td>0</td>\n",
       "      <td>0</td>\n",
       "      <td>0</td>\n",
       "      <td>0</td>\n",
       "      <td>0</td>\n",
       "      <td>...</td>\n",
       "      <td>0</td>\n",
       "      <td>0</td>\n",
       "      <td>0</td>\n",
       "      <td>0</td>\n",
       "      <td>0</td>\n",
       "      <td>0</td>\n",
       "      <td>0</td>\n",
       "      <td>0</td>\n",
       "      <td>0</td>\n",
       "      <td>0</td>\n",
       "    </tr>\n",
       "    <tr>\n",
       "      <th>333</th>\n",
       "      <td>334</td>\n",
       "      <td>U Turn (1997)</td>\n",
       "      <td>01-Jan-1997</td>\n",
       "      <td>NaN</td>\n",
       "      <td>http://us.imdb.com/Title?U+Turn+(1997)</td>\n",
       "      <td>0</td>\n",
       "      <td>1</td>\n",
       "      <td>0</td>\n",
       "      <td>0</td>\n",
       "      <td>0</td>\n",
       "      <td>...</td>\n",
       "      <td>0</td>\n",
       "      <td>0</td>\n",
       "      <td>0</td>\n",
       "      <td>0</td>\n",
       "      <td>1</td>\n",
       "      <td>0</td>\n",
       "      <td>0</td>\n",
       "      <td>0</td>\n",
       "      <td>0</td>\n",
       "      <td>0</td>\n",
       "    </tr>\n",
       "  </tbody>\n",
       "</table>\n",
       "<p>5 rows × 24 columns</p>\n",
       "</div>"
      ],
      "text/plain": [
       "          movie id                  movie title release date  \\\n",
       "movie id                                                       \n",
       "300            301              In & Out (1997)  19-Sep-1997   \n",
       "258            259  George of the Jungle (1997)  01-Jan-1997   \n",
       "294            295             Breakdown (1997)  02-May-1997   \n",
       "286            287         Marvin's Room (1996)  18-Dec-1996   \n",
       "333            334                U Turn (1997)  01-Jan-1997   \n",
       "\n",
       "          video release date  \\\n",
       "movie id                       \n",
       "300                      NaN   \n",
       "258                      NaN   \n",
       "294                      NaN   \n",
       "286                      NaN   \n",
       "333                      NaN   \n",
       "\n",
       "                                                   IMDb URL  unknown  Action  \\\n",
       "movie id                                                                       \n",
       "300              http://us.imdb.com/Title?In+%26+Out+(1997)        0       0   \n",
       "258       http://us.imdb.com/M/title-exact?George+of+the...        0       0   \n",
       "294       http://us.imdb.com/M/title-exact?Breakdown%20%...        0       1   \n",
       "286       http://us.imdb.com/M/title-exact?Marvin's%20Ro...        0       0   \n",
       "333                  http://us.imdb.com/Title?U+Turn+(1997)        0       1   \n",
       "\n",
       "          Adventure  Animation  Childrens   ...     Fantasy   Film-Noir  \\\n",
       "movie id                                    ...                           \n",
       "300               0          0          0   ...            0          0   \n",
       "258               0          0          1   ...            0          0   \n",
       "294               0          0          0   ...            0          0   \n",
       "286               0          0          0   ...            0          0   \n",
       "333               0          0          0   ...            0          0   \n",
       "\n",
       "          Horror  Musical  Mystery  Romance  Sci-Fi  Thriller  War  Western  \n",
       "movie id                                                                     \n",
       "300            0        0        0        0       0         0    0        0  \n",
       "258            0        0        0        0       0         0    0        0  \n",
       "294            0        0        0        0       0         1    0        0  \n",
       "286            0        0        0        0       0         0    0        0  \n",
       "333            0        0        1        0       0         0    0        0  \n",
       "\n",
       "[5 rows x 24 columns]"
      ]
     },
     "execution_count": 157,
     "metadata": {},
     "output_type": "execute_result"
    }
   ],
   "source": [
    "recom_ids = recommend_movies(reconstruction, 399, movies, ratings)\n",
    "recom_movies = movies.loc[recom_ids]\n",
    "recom_movies"
   ]
  },
  {
   "cell_type": "markdown",
   "metadata": {},
   "source": [
    "### Stability"
   ]
  },
  {
   "cell_type": "code",
   "execution_count": 174,
   "metadata": {},
   "outputs": [],
   "source": [
    "recommended_ids = []\n",
    "for _ in range(50):\n",
    "    W, H = non_negative(rat_df, num_components=25)\n",
    "    reconstruction = pd.DataFrame(np.dot(W, H), columns=rat_df.columns)\n",
    "    recommended_ids.append(recommend_movies(reconstruction, 399, movies, ratings))\n",
    "ids, counts = np.unique(np.array(recommended_ids), return_counts=True)"
   ]
  },
  {
   "cell_type": "code",
   "execution_count": 175,
   "metadata": {},
   "outputs": [
    {
     "name": "stdout",
     "output_type": "stream",
     "text": [
      "Movie id 258: 50\n",
      "Movie id 269: 10\n",
      "Movie id 272: 2\n",
      "Movie id 286: 50\n",
      "Movie id 294: 40\n",
      "Movie id 300: 50\n",
      "Movie id 313: 11\n",
      "Movie id 333: 37\n"
     ]
    }
   ],
   "source": [
    "[print(f\"Movie id {id}: {count}\") for id, count in zip(ids, counts)];"
   ]
  },
  {
   "cell_type": "markdown",
   "metadata": {},
   "source": [
    "As we can see, 3 of the movies including the first recommended one appear in all 50 test runs, but there are some outliers, which get recommended only once."
   ]
  }
 ],
 "metadata": {
  "kernelspec": {
   "display_name": "Python 3",
   "language": "python",
   "name": "python3"
  },
  "language_info": {
   "codemirror_mode": {
    "name": "ipython",
    "version": 3
   },
   "file_extension": ".py",
   "mimetype": "text/x-python",
   "name": "python",
   "nbconvert_exporter": "python",
   "pygments_lexer": "ipython3",
   "version": "3.6.3"
  }
 },
 "nbformat": 4,
 "nbformat_minor": 2
}
